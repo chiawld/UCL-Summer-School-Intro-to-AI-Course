{
 "cells": [
  {
   "cell_type": "markdown",
   "metadata": {},
   "source": [
    "# Day 2: Python & Pre-processing\n",
    "\n",
    "* Python = high-level, general-purpose, and interpretable programming language\n",
    "\n",
    "## Libraries \n",
    "* numpy: powerful n-dimensions arrays\n",
    "* pandas: handling data - data structures, manipulation, input & output\n",
    "* matplotlib: plotting library, comprehensive + general purpose\n",
    "* seaborn: plotting library, more user friendly but less options than matplotlib"
   ]
  },
  {
   "cell_type": "code",
   "execution_count": null,
   "metadata": {},
   "outputs": [],
   "source": [
    "# Import pandas - our main tool for working with data\n",
    "# Import numpy - a library for numerical operations\n",
    "# Import matplotlib - for creating simple plots\n",
    "\n",
    "import pandas as pd\n",
    "import numpy as np\n",
    "import matplotlib.pyplot as plt"
   ]
  },
  {
   "cell_type": "markdown",
   "metadata": {},
   "source": []
  }
 ],
 "metadata": {
  "kernelspec": {
   "display_name": "Python 3",
   "language": "python",
   "name": "python3"
  },
  "language_info": {
   "name": "python",
   "version": "3.12.0"
  }
 },
 "nbformat": 4,
 "nbformat_minor": 2
}
