{
  "cells": [
    {
      "cell_type": "markdown",
      "metadata": {
        "colab_type": "text",
        "id": "view-in-github"
      },
      "source": [
        "<a href=\"https://colab.research.google.com/github/chiawld/UCL-Summer-School-Intro-to-AI-Course/blob/main/preprocessing_EDA/data_cleaning.ipynb\" target=\"_parent\"><img src=\"https://colab.research.google.com/assets/colab-badge.svg\" alt=\"Open In Colab\"/></a>"
      ]
    },
    {
      "cell_type": "markdown",
      "id": "159fb37f",
      "metadata": {
        "id": "159fb37f"
      },
      "source": [
        "# Data Cleaning\n",
        "\n",
        "This notebook will teach you the basics of data cleaning using simple pandas functions.\n",
        "\n",
        "**What we'll learn:**\n",
        "1. Load data from a CSV file\n",
        "2. Look at our data using built-in functions\n",
        "3. Find missing values\n",
        "4. Handle missing values\n",
        "5. Save our clean data\n",
        "\n",
        "**Instructions:**\n",
        "- Upload your CSV file to Google Colab\n",
        "- Change the file name in the code below\n",
        "- Run each cell one by one"
      ]
    },
    {
      "cell_type": "code",
      "execution_count": 2,
      "id": "7b2aea56",
      "metadata": {
        "colab": {
          "base_uri": "https://localhost:8080/"
        },
        "id": "7b2aea56",
        "outputId": "73071797-b30d-43ad-ecc5-e4ff9469270a"
      },
      "outputs": [
        {
          "name": "stdout",
          "output_type": "stream",
          "text": [
            "Libraries imported successfully!\n"
          ]
        }
      ],
      "source": [
        "# Import pandas - our main tool for working with data\n",
        "# Import numpy - a library for numerical operations\n",
        "# Import matplotlib - for creating simple plots\n",
        "import pandas as pd\n",
        "import numpy as np\n",
        "import matplotlib.pyplot as plt\n",
        "\n",
        "print(\"Libraries imported successfully!\")"
      ]
    },
    {
      "cell_type": "markdown",
      "id": "5127d0a5",
      "metadata": {
        "id": "5127d0a5"
      },
      "source": [
        "## 1. Load Your Data\n",
        "\n",
        "First, let's load our CSV file and take a look at it."
      ]
    },
    {
      "cell_type": "code",
      "execution_count": 3,
      "id": "3b26af59",
      "metadata": {
        "colab": {
          "base_uri": "https://localhost:8080/"
        },
        "id": "3b26af59",
        "outputId": "5b2a71e5-e9d9-4c71-9723-603665e23253"
      },
      "outputs": [
        {
          "name": "stdout",
          "output_type": "stream",
          "text": [
            "Data loaded successfully!\n",
            "Our dataset has 133349 rows and 11 columns\n"
          ]
        }
      ],
      "source": [
        "# Load your data - change the filename to match your data file\n",
        "df = pd.read_csv('/Users/chicswldrg/Desktop/UZH 2024:25/Summer School Juli 2025/UCL-Summer-School-Intro-to-AI-Course-1/datasets/datascience_salaries.csv')\n",
        "#'/datascience_salaries.csv')\n",
        "\n",
        "print(\"Data loaded successfully!\")\n",
        "print(f\"Our dataset has {df.shape[0]} rows and {df.shape[1]} columns\")"
      ]
    },
    {
      "cell_type": "code",
      "execution_count": 4,
      "id": "769d092d",
      "metadata": {
        "colab": {
          "base_uri": "https://localhost:8080/",
          "height": 331
        },
        "id": "769d092d",
        "outputId": "d518f35e-ecec-4da9-8a7f-1d2065cac893"
      },
      "outputs": [
        {
          "name": "stdout",
          "output_type": "stream",
          "text": [
            "First 5 rows:\n"
          ]
        },
        {
          "data": {
            "text/html": [
              "<div>\n",
              "<style scoped>\n",
              "    .dataframe tbody tr th:only-of-type {\n",
              "        vertical-align: middle;\n",
              "    }\n",
              "\n",
              "    .dataframe tbody tr th {\n",
              "        vertical-align: top;\n",
              "    }\n",
              "\n",
              "    .dataframe thead th {\n",
              "        text-align: right;\n",
              "    }\n",
              "</style>\n",
              "<table border=\"1\" class=\"dataframe\">\n",
              "  <thead>\n",
              "    <tr style=\"text-align: right;\">\n",
              "      <th></th>\n",
              "      <th>work_year</th>\n",
              "      <th>experience_level</th>\n",
              "      <th>employment_type</th>\n",
              "      <th>job_title</th>\n",
              "      <th>salary</th>\n",
              "      <th>salary_currency</th>\n",
              "      <th>salary_in_usd</th>\n",
              "      <th>employee_residence</th>\n",
              "      <th>remote_ratio</th>\n",
              "      <th>company_location</th>\n",
              "      <th>company_size</th>\n",
              "    </tr>\n",
              "  </thead>\n",
              "  <tbody>\n",
              "    <tr>\n",
              "      <th>0</th>\n",
              "      <td>2025</td>\n",
              "      <td>SE</td>\n",
              "      <td>FT</td>\n",
              "      <td>Solutions Engineer</td>\n",
              "      <td>214000</td>\n",
              "      <td>USD</td>\n",
              "      <td>214000</td>\n",
              "      <td>US</td>\n",
              "      <td>100</td>\n",
              "      <td>US</td>\n",
              "      <td>M</td>\n",
              "    </tr>\n",
              "    <tr>\n",
              "      <th>1</th>\n",
              "      <td>2025</td>\n",
              "      <td>SE</td>\n",
              "      <td>FT</td>\n",
              "      <td>Solutions Engineer</td>\n",
              "      <td>136000</td>\n",
              "      <td>USD</td>\n",
              "      <td>13600000</td>\n",
              "      <td>US</td>\n",
              "      <td>100</td>\n",
              "      <td>US</td>\n",
              "      <td>M</td>\n",
              "    </tr>\n",
              "    <tr>\n",
              "      <th>2</th>\n",
              "      <td>2025</td>\n",
              "      <td>MI</td>\n",
              "      <td>FT</td>\n",
              "      <td>Data Engineer</td>\n",
              "      <td>158800</td>\n",
              "      <td>USD</td>\n",
              "      <td>158800</td>\n",
              "      <td>AU</td>\n",
              "      <td>0</td>\n",
              "      <td>AU</td>\n",
              "      <td>M</td>\n",
              "    </tr>\n",
              "    <tr>\n",
              "      <th>3</th>\n",
              "      <td>2025</td>\n",
              "      <td>MI</td>\n",
              "      <td>FT</td>\n",
              "      <td>Data Engineer</td>\n",
              "      <td>139200</td>\n",
              "      <td>USD</td>\n",
              "      <td>139200</td>\n",
              "      <td>AU</td>\n",
              "      <td>0</td>\n",
              "      <td>AU</td>\n",
              "      <td>M</td>\n",
              "    </tr>\n",
              "    <tr>\n",
              "      <th>4</th>\n",
              "      <td>2025</td>\n",
              "      <td>EN</td>\n",
              "      <td>FT</td>\n",
              "      <td>Data Engineer</td>\n",
              "      <td>90000</td>\n",
              "      <td>USD</td>\n",
              "      <td>90000</td>\n",
              "      <td>US</td>\n",
              "      <td>0</td>\n",
              "      <td>US</td>\n",
              "      <td>M</td>\n",
              "    </tr>\n",
              "  </tbody>\n",
              "</table>\n",
              "</div>"
            ],
            "text/plain": [
              "   work_year experience_level employment_type           job_title  salary  \\\n",
              "0       2025               SE              FT  Solutions Engineer  214000   \n",
              "1       2025               SE              FT  Solutions Engineer  136000   \n",
              "2       2025               MI              FT       Data Engineer  158800   \n",
              "3       2025               MI              FT       Data Engineer  139200   \n",
              "4       2025               EN              FT       Data Engineer   90000   \n",
              "\n",
              "  salary_currency  salary_in_usd employee_residence  remote_ratio  \\\n",
              "0             USD         214000                 US           100   \n",
              "1             USD       13600000                 US           100   \n",
              "2             USD         158800                 AU             0   \n",
              "3             USD         139200                 AU             0   \n",
              "4             USD          90000                 US             0   \n",
              "\n",
              "  company_location company_size  \n",
              "0               US            M  \n",
              "1               US            M  \n",
              "2               AU            M  \n",
              "3               AU            M  \n",
              "4               US            M  "
            ]
          },
          "execution_count": 4,
          "metadata": {},
          "output_type": "execute_result"
        }
      ],
      "source": [
        "# Look at the first 5 rows\n",
        "print(\"First 5 rows:\")\n",
        "df.head()"
      ]
    },
    {
      "cell_type": "markdown",
      "id": "c92a7efa",
      "metadata": {
        "id": "c92a7efa"
      },
      "source": [
        "## 2. Explore Your Data\n",
        "\n",
        "Let's use built-in pandas functions to understand our data better."
      ]
    },
    {
      "cell_type": "code",
      "execution_count": 5,
      "id": "5611eb02",
      "metadata": {
        "colab": {
          "base_uri": "https://localhost:8080/"
        },
        "id": "5611eb02",
        "outputId": "a369c801-f780-4ca0-c590-b8691d18fa6d"
      },
      "outputs": [
        {
          "name": "stdout",
          "output_type": "stream",
          "text": [
            "<class 'pandas.core.frame.DataFrame'>\n",
            "RangeIndex: 133349 entries, 0 to 133348\n",
            "Data columns (total 11 columns):\n",
            " #   Column              Non-Null Count   Dtype \n",
            "---  ------              --------------   ----- \n",
            " 0   work_year           133349 non-null  int64 \n",
            " 1   experience_level    133348 non-null  object\n",
            " 2   employment_type     133347 non-null  object\n",
            " 3   job_title           133349 non-null  object\n",
            " 4   salary              133349 non-null  int64 \n",
            " 5   salary_currency     133349 non-null  object\n",
            " 6   salary_in_usd       133349 non-null  int64 \n",
            " 7   employee_residence  133348 non-null  object\n",
            " 8   remote_ratio        133349 non-null  int64 \n",
            " 9   company_location    133349 non-null  object\n",
            " 10  company_size        133348 non-null  object\n",
            "dtypes: int64(4), object(7)\n",
            "memory usage: 11.2+ MB\n"
          ]
        }
      ],
      "source": [
        "# Get basic information about our data\n",
        "df.info()"
      ]
    },
    {
      "cell_type": "code",
      "execution_count": 6,
      "id": "e5b86161",
      "metadata": {
        "colab": {
          "base_uri": "https://localhost:8080/",
          "height": 300
        },
        "id": "e5b86161",
        "outputId": "cc5035aa-36e7-4606-a58f-b556877a7030"
      },
      "outputs": [
        {
          "data": {
            "text/html": [
              "<div>\n",
              "<style scoped>\n",
              "    .dataframe tbody tr th:only-of-type {\n",
              "        vertical-align: middle;\n",
              "    }\n",
              "\n",
              "    .dataframe tbody tr th {\n",
              "        vertical-align: top;\n",
              "    }\n",
              "\n",
              "    .dataframe thead th {\n",
              "        text-align: right;\n",
              "    }\n",
              "</style>\n",
              "<table border=\"1\" class=\"dataframe\">\n",
              "  <thead>\n",
              "    <tr style=\"text-align: right;\">\n",
              "      <th></th>\n",
              "      <th>work_year</th>\n",
              "      <th>salary</th>\n",
              "      <th>salary_in_usd</th>\n",
              "      <th>remote_ratio</th>\n",
              "    </tr>\n",
              "  </thead>\n",
              "  <tbody>\n",
              "    <tr>\n",
              "      <th>count</th>\n",
              "      <td>133349.000000</td>\n",
              "      <td>1.333490e+05</td>\n",
              "      <td>1.333490e+05</td>\n",
              "      <td>133349.000000</td>\n",
              "    </tr>\n",
              "    <tr>\n",
              "      <th>mean</th>\n",
              "      <td>2024.358705</td>\n",
              "      <td>1.632833e+05</td>\n",
              "      <td>1.577182e+05</td>\n",
              "      <td>20.905669</td>\n",
              "    </tr>\n",
              "    <tr>\n",
              "      <th>std</th>\n",
              "      <td>0.680788</td>\n",
              "      <td>2.173860e+05</td>\n",
              "      <td>8.290857e+04</td>\n",
              "      <td>40.590044</td>\n",
              "    </tr>\n",
              "    <tr>\n",
              "      <th>min</th>\n",
              "      <td>2020.000000</td>\n",
              "      <td>1.400000e+04</td>\n",
              "      <td>1.500000e+04</td>\n",
              "      <td>0.000000</td>\n",
              "    </tr>\n",
              "    <tr>\n",
              "      <th>25%</th>\n",
              "      <td>2024.000000</td>\n",
              "      <td>1.060200e+05</td>\n",
              "      <td>1.060000e+05</td>\n",
              "      <td>0.000000</td>\n",
              "    </tr>\n",
              "    <tr>\n",
              "      <th>50%</th>\n",
              "      <td>2024.000000</td>\n",
              "      <td>1.470000e+05</td>\n",
              "      <td>1.462060e+05</td>\n",
              "      <td>0.000000</td>\n",
              "    </tr>\n",
              "    <tr>\n",
              "      <th>75%</th>\n",
              "      <td>2025.000000</td>\n",
              "      <td>1.990000e+05</td>\n",
              "      <td>1.980000e+05</td>\n",
              "      <td>0.000000</td>\n",
              "    </tr>\n",
              "    <tr>\n",
              "      <th>max</th>\n",
              "      <td>2025.000000</td>\n",
              "      <td>3.040000e+07</td>\n",
              "      <td>1.360000e+07</td>\n",
              "      <td>100.000000</td>\n",
              "    </tr>\n",
              "  </tbody>\n",
              "</table>\n",
              "</div>"
            ],
            "text/plain": [
              "           work_year        salary  salary_in_usd   remote_ratio\n",
              "count  133349.000000  1.333490e+05   1.333490e+05  133349.000000\n",
              "mean     2024.358705  1.632833e+05   1.577182e+05      20.905669\n",
              "std         0.680788  2.173860e+05   8.290857e+04      40.590044\n",
              "min      2020.000000  1.400000e+04   1.500000e+04       0.000000\n",
              "25%      2024.000000  1.060200e+05   1.060000e+05       0.000000\n",
              "50%      2024.000000  1.470000e+05   1.462060e+05       0.000000\n",
              "75%      2025.000000  1.990000e+05   1.980000e+05       0.000000\n",
              "max      2025.000000  3.040000e+07   1.360000e+07     100.000000"
            ]
          },
          "execution_count": 6,
          "metadata": {},
          "output_type": "execute_result"
        }
      ],
      "source": [
        "# Get statistics for numerical columns\n",
        "df.describe()"
      ]
    },
    {
      "cell_type": "code",
      "execution_count": 7,
      "id": "d186adbd",
      "metadata": {
        "colab": {
          "base_uri": "https://localhost:8080/"
        },
        "id": "d186adbd",
        "outputId": "9b68a99c-cf01-4721-d337-26b303abbe8f"
      },
      "outputs": [
        {
          "name": "stdout",
          "output_type": "stream",
          "text": [
            "Column names in our dataset:\n",
            "['work_year', 'experience_level', 'employment_type', 'job_title', 'salary', 'salary_currency', 'salary_in_usd', 'employee_residence', 'remote_ratio', 'company_location', 'company_size']\n"
          ]
        }
      ],
      "source": [
        "# Look at all column names\n",
        "print(\"Column names in our dataset:\")\n",
        "print(df.columns.tolist())"
      ]
    },
    {
      "cell_type": "code",
      "execution_count": 8,
      "id": "66062365",
      "metadata": {
        "colab": {
          "base_uri": "https://localhost:8080/",
          "height": 447
        },
        "id": "66062365",
        "outputId": "d80a9958-1eb4-43f4-f883-de34a07d5228"
      },
      "outputs": [
        {
          "name": "stdout",
          "output_type": "stream",
          "text": [
            "Data types for each column:\n"
          ]
        },
        {
          "data": {
            "text/plain": [
              "work_year              int64\n",
              "experience_level      object\n",
              "employment_type       object\n",
              "job_title             object\n",
              "salary                 int64\n",
              "salary_currency       object\n",
              "salary_in_usd          int64\n",
              "employee_residence    object\n",
              "remote_ratio           int64\n",
              "company_location      object\n",
              "company_size          object\n",
              "dtype: object"
            ]
          },
          "execution_count": 8,
          "metadata": {},
          "output_type": "execute_result"
        }
      ],
      "source": [
        "# Check what type of data each column contains\n",
        "print(\"Data types for each column:\")\n",
        "df.dtypes"
      ]
    },
    {
      "cell_type": "markdown",
      "id": "9e513763",
      "metadata": {
        "id": "9e513763"
      },
      "source": [
        "## 3. Check for Duplicates"
      ]
    },
    {
      "cell_type": "code",
      "execution_count": 9,
      "id": "68381587",
      "metadata": {
        "colab": {
          "base_uri": "https://localhost:8080/"
        },
        "id": "68381587",
        "outputId": "5deee3d0-eb39-4a64-a486-bd7e67663886"
      },
      "outputs": [
        {
          "name": "stdout",
          "output_type": "stream",
          "text": [
            "Number of duplicate rows: 68723\n"
          ]
        }
      ],
      "source": [
        "# Check for duplicates\n",
        "duplicates = df.duplicated().sum()\n",
        "print(f\"Number of duplicate rows: {duplicates}\")"
      ]
    },
    {
      "cell_type": "code",
      "execution_count": 10,
      "id": "8d20281f",
      "metadata": {
        "colab": {
          "base_uri": "https://localhost:8080/"
        },
        "id": "8d20281f",
        "outputId": "31b6a916-d7b0-4684-dae9-6051c84aebe9"
      },
      "outputs": [
        {
          "name": "stdout",
          "output_type": "stream",
          "text": [
            "Removed 68723 duplicate rows.\n"
          ]
        }
      ],
      "source": [
        "# Remove duplicate rows if any\n",
        "if duplicates > 0:\n",
        "    df = df.drop_duplicates()\n",
        "    print(f\"Removed {duplicates} duplicate rows.\")\n",
        "else:\n",
        "    print(\"No duplicate rows found.\")"
      ]
    },
    {
      "cell_type": "markdown",
      "id": "7851e7f8",
      "metadata": {
        "id": "7851e7f8"
      },
      "source": [
        "## 4. Check for Missing Values\n",
        "\n",
        "Missing values are empty cells in our data. Let's find them!"
      ]
    },
    {
      "cell_type": "code",
      "execution_count": 11,
      "id": "6dc301cc",
      "metadata": {
        "colab": {
          "base_uri": "https://localhost:8080/",
          "height": 429
        },
        "id": "6dc301cc",
        "outputId": "5770d376-94d2-4bb2-f3f4-f76698cbc9d2"
      },
      "outputs": [
        {
          "data": {
            "text/plain": [
              "work_year             0\n",
              "experience_level      1\n",
              "employment_type       2\n",
              "job_title             0\n",
              "salary                0\n",
              "salary_currency       0\n",
              "salary_in_usd         0\n",
              "employee_residence    1\n",
              "remote_ratio          0\n",
              "company_location      0\n",
              "company_size          1\n",
              "dtype: int64"
            ]
          },
          "execution_count": 11,
          "metadata": {},
          "output_type": "execute_result"
        }
      ],
      "source": [
        "# Check how many missing values each column has\n",
        "df.isnull().sum()"
      ]
    },
    {
      "cell_type": "code",
      "execution_count": 15,
      "id": "0ZmUeggMghT2",
      "metadata": {
        "id": "0ZmUeggMghT2"
      },
      "outputs": [],
      "source": [
        "#from google.colab import drive\n",
        "#drive.mount('/content/drive')"
      ]
    },
    {
      "cell_type": "code",
      "execution_count": 12,
      "id": "c6303a9c",
      "metadata": {
        "id": "c6303a9c",
        "outputId": "58aea2f2-17bc-4dd0-eaf0-b59664d17aeb"
      },
      "outputs": [
        {
          "name": "stdout",
          "output_type": "stream",
          "text": [
            "Columns with missing values:\n",
            "['experience_level', 'employment_type', 'employee_residence', 'company_size']\n"
          ]
        }
      ],
      "source": [
        "# Let's see which columns have missing values\n",
        "columns_with_missing = df.columns[df.isnull().any()].tolist()\n",
        "print(\"Columns with missing values:\")\n",
        "print(columns_with_missing)"
      ]
    },
    {
      "cell_type": "code",
      "execution_count": 13,
      "id": "9de739cb",
      "metadata": {
        "id": "9de739cb",
        "outputId": "524bf71f-c35f-4a66-dfce-5e67ca0409cd"
      },
      "outputs": [
        {
          "name": "stdout",
          "output_type": "stream",
          "text": [
            "Unique values in 'employment_type':\n",
            "employment_type\n",
            "FT    63955\n",
            "CT      338\n",
            "PT      315\n",
            "FL       16\n",
            "Name: count, dtype: int64\n"
          ]
        }
      ],
      "source": [
        "# Look at the range of values for one specific column (change the column name as needed)\n",
        "column_name = 'employment_type'  # Change this to any column you want to examine\n",
        "print(f\"Unique values in '{column_name}':\")\n",
        "print(df[column_name].value_counts())"
      ]
    },
    {
      "cell_type": "markdown",
      "id": "27938157",
      "metadata": {
        "id": "27938157"
      },
      "source": [
        "Checking the categories/possible values of each column can also help identify potential spelling mistakes and typos.\n",
        "e.g. England vs. Englnd"
      ]
    },
    {
      "cell_type": "markdown",
      "id": "2b15b145",
      "metadata": {
        "id": "2b15b145"
      },
      "source": [
        "## 5. Handle Missing Values\n",
        "\n",
        "Now let's fix the missing values. We have several options:\n",
        "- Remove rows with missing values\n",
        "- Fill missing values with a specific value\n",
        "- Fill missing values with the average/most common value"
      ]
    },
    {
      "cell_type": "code",
      "execution_count": 16,
      "id": "ee61f74d",
      "metadata": {
        "id": "ee61f74d",
        "outputId": "f6d4b20c-a564-4fff-9950-d31afea4b86e"
      },
      "outputs": [
        {
          "name": "stdout",
          "output_type": "stream",
          "text": [
            "Original data: 64626 rows\n",
            "After removing missing: 64621 rows\n"
          ]
        }
      ],
      "source": [
        "# Option 1: Remove rows with ANY missing values\n",
        "df_no_missing = df.dropna()\n",
        "print(f\"Original data: {df.shape[0]} rows\")\n",
        "print(f\"After removing missing: {df_no_missing.shape[0]} rows\")"
      ]
    },
    {
      "cell_type": "code",
      "execution_count": 17,
      "id": "a9afca58",
      "metadata": {
        "id": "a9afca58",
        "outputId": "0530b6bd-7cb8-4c79-c785-7a2328327e80"
      },
      "outputs": [
        {
          "name": "stdout",
          "output_type": "stream",
          "text": [
            "\n",
            "After filling missing values with 'Unknown':\n",
            "0 missing values remain\n"
          ]
        }
      ],
      "source": [
        "# Option 2: Fill missing values with a specific value (example: 'Unknown')\n",
        "df_filled = df.fillna('Unknown')\n",
        "print(f\"\\nAfter filling missing values with 'Unknown':\")\n",
        "print(df_filled.isnull().sum().sum(), \"missing values remain\")"
      ]
    },
    {
      "cell_type": "code",
      "execution_count": 18,
      "id": "03ce7be0",
      "metadata": {
        "id": "03ce7be0",
        "outputId": "849f4fb8-b0bb-49d5-9805-0b9b8a8893ed"
      },
      "outputs": [
        {
          "name": "stdout",
          "output_type": "stream",
          "text": [
            "\n",
            "After filling missing values smartly:\n",
            "work_year             0\n",
            "experience_level      0\n",
            "employment_type       0\n",
            "job_title             0\n",
            "salary                0\n",
            "salary_currency       0\n",
            "salary_in_usd         0\n",
            "employee_residence    0\n",
            "remote_ratio          0\n",
            "company_location      0\n",
            "company_size          0\n",
            "dtype: int64\n"
          ]
        }
      ],
      "source": [
        "# Option 3: Fill missing values - numbers with mean, text with mode (most common value)\n",
        "df_filled_smart = df.copy()\n",
        "\n",
        "# Fill numeric columns with mean\n",
        "numeric_columns = df.select_dtypes(include=[np.number]).columns\n",
        "df_filled_smart[numeric_columns] = df_filled_smart[numeric_columns].fillna(df[numeric_columns].mean())\n",
        "\n",
        "# Fill categorical columns with mode (most common value)\n",
        "categorical_columns = df.select_dtypes(include=['object']).columns\n",
        "for col in categorical_columns:\n",
        "\tmode_value = df[col].mode()[0] if not df[col].mode().empty else 'Unknown'\n",
        "\tdf_filled_smart[col] = df_filled_smart[col].fillna(mode_value)\n",
        "\n",
        "print(f\"\\nAfter filling missing values smartly:\")\n",
        "print(df_filled_smart.isnull().sum())"
      ]
    },
    {
      "cell_type": "code",
      "execution_count": 19,
      "id": "6498ccee",
      "metadata": {
        "id": "6498ccee",
        "outputId": "87a0d05a-9d3a-46a1-8793-39ebdd633271"
      },
      "outputs": [
        {
          "name": "stdout",
          "output_type": "stream",
          "text": [
            "Final check - shape of our data:\n",
            "Rows: 64621, Columns: 11\n",
            "Missing values: 0\n"
          ]
        }
      ],
      "source": [
        "# Choose which cleaned version you want to use\n",
        "# e.g., Option 1: Data with missing values removed\n",
        "df = df_no_missing\n",
        "\n",
        "# For now, let's just check our final data\n",
        "# Final check of our data\n",
        "print(\"Final check - shape of our data:\")\n",
        "print(f\"Rows: {df.shape[0]}, Columns: {df.shape[1]}\")\n",
        "print(f\"Missing values: {df.isnull().sum().sum()}\")\n"
      ]
    },
    {
      "cell_type": "markdown",
      "id": "2a1577fe",
      "metadata": {
        "id": "2a1577fe"
      },
      "source": [
        "## 6. Check for Outliers and Data Errors\n",
        "\n",
        "Let's look for unusual values that might be errors in our data."
      ]
    },
    {
      "cell_type": "code",
      "execution_count": 20,
      "id": "d8ef105f",
      "metadata": {
        "id": "d8ef105f",
        "outputId": "0e55ec75-625d-48cf-99e5-be13341bfd3e"
      },
      "outputs": [
        {
          "name": "stdout",
          "output_type": "stream",
          "text": [
            "Checking for potential outliers in numerical data:\n",
            "==================================================\n",
            "work_year:\n",
            "  Minimum: 2020\n",
            "  Maximum: 2025\n",
            "  Average: 2024.36\n",
            "\n",
            "salary:\n",
            "  Minimum: 14000\n",
            "  Maximum: 30400000\n",
            "  Average: 162305.54\n",
            "\n",
            "salary_in_usd:\n",
            "  Minimum: 15000\n",
            "  Maximum: 13600000\n",
            "  Average: 151438.30\n",
            "\n",
            "remote_ratio:\n",
            "  Minimum: 0\n",
            "  Maximum: 100\n",
            "  Average: 24.64\n",
            "\n"
          ]
        }
      ],
      "source": [
        "# Look for extreme values in numerical columns\n",
        "print(\"Checking for potential outliers in numerical data:\")\n",
        "print(\"=\" * 50)\n",
        "\n",
        "# Get numerical columns only\n",
        "numerical_cols = df.select_dtypes(include=[np.number]).columns\n",
        "\n",
        "# Show min and max values for each numerical column\n",
        "for col in numerical_cols:\n",
        "    print(f\"{col}:\")\n",
        "    print(f\"  Minimum: {df[col].min()}\")\n",
        "    print(f\"  Maximum: {df[col].max()}\")\n",
        "    print(f\"  Average: {df[col].mean():.2f}\")\n",
        "    print()"
      ]
    },
    {
      "cell_type": "code",
      "execution_count": 21,
      "id": "12f71a3a",
      "metadata": {
        "id": "12f71a3a",
        "outputId": "8a764e02-9d9a-4525-9835-1091d728e741"
      },
      "outputs": [
        {
          "name": "stdout",
          "output_type": "stream",
          "text": [
            "Checking text columns for potential errors:\n",
            "==================================================\n",
            "\n",
            "experience_level - unique values:\n",
            "experience_level\n",
            "SE    33998\n",
            "MI    20908\n",
            "EN     7400\n",
            "EX     2315\n",
            "Name: count, dtype: int64\n",
            "\n",
            "employment_type - unique values:\n",
            "employment_type\n",
            "FT    63952\n",
            "CT      338\n",
            "PT      315\n",
            "FL       16\n",
            "Name: count, dtype: int64\n",
            "\n",
            "job_title - unique values:\n",
            "job_title\n",
            "Data Scientist               6688\n",
            "Data Engineer                6555\n",
            "Data Analyst                 5945\n",
            "Software Engineer            4478\n",
            "Engineer                     3932\n",
            "Machine Learning Engineer    3268\n",
            "Manager                      3254\n",
            "Analyst                      2417\n",
            "Research Scientist           1271\n",
            "Analytics Engineer           1216\n",
            "Name: count, dtype: int64\n",
            "\n",
            "salary_currency - unique values:\n",
            "salary_currency\n",
            "USD    59297\n",
            "GBP     2460\n",
            "EUR     1982\n",
            "CAD      473\n",
            "INR      127\n",
            "PLN       84\n",
            "CHF       35\n",
            "AUD       29\n",
            "PHP       27\n",
            "BRL       20\n",
            "Name: count, dtype: int64\n",
            "\n",
            "employee_residence - unique values:\n",
            "employee_residence\n",
            "US    54190\n",
            "CA     3967\n",
            "GB     2547\n",
            "AU      447\n",
            "NL      344\n",
            "DE      340\n",
            "LT      289\n",
            "FR      268\n",
            "IN      209\n",
            "ES      189\n",
            "Name: count, dtype: int64\n",
            "\n",
            "company_location - unique values:\n",
            "company_location\n",
            "US    54251\n",
            "CA     3968\n",
            "GB     2555\n",
            "AU      452\n",
            "DE      350\n",
            "NL      344\n",
            "LT      289\n",
            "FR      263\n",
            "IN      187\n",
            "ES      184\n",
            "Name: count, dtype: int64\n",
            "\n",
            "company_size - unique values:\n",
            "company_size\n",
            "M    62888\n",
            "L     1521\n",
            "S      212\n",
            "Name: count, dtype: int64\n"
          ]
        }
      ],
      "source": [
        "# Check for unusual values in text columns\n",
        "print(\"Checking text columns for potential errors:\")\n",
        "print(\"=\" * 50)\n",
        "\n",
        "# Look at text columns\n",
        "text_cols = df.select_dtypes(include=['object']).columns\n",
        "\n",
        "for col in text_cols:\n",
        "    print(f\"\\n{col} - unique values:\")\n",
        "    print(df[col].value_counts().head(10))  # Show top 10 most common values"
      ]
    },
    {
      "cell_type": "code",
      "execution_count": 22,
      "id": "7582ffb8",
      "metadata": {
        "id": "7582ffb8",
        "outputId": "28e15131-a0f2-429b-b3bc-8a731fb15bbf"
      },
      "outputs": [
        {
          "name": "stdout",
          "output_type": "stream",
          "text": [
            "Creating box plots to spot outliers...\n",
            "Look for dots outside the boxes - these might be outliers!\n"
          ]
        },
        {
          "data": {
            "image/png": "[encoded data removed]",
            "text/plain": [
              "<Figure size 600x400 with 1 Axes>"
            ]
          },
          "metadata": {},
          "output_type": "display_data"
        },
        {
          "data": {
            "image/png": "[encoded data removed]",
            "text/plain": [
              "<Figure size 600x400 with 1 Axes>"
            ]
          },
          "metadata": {},
          "output_type": "display_data"
        },
        {
          "data": {
            "image/png": "[encoded data removed]",
            "text/plain": [
              "<Figure size 600x400 with 1 Axes>"
            ]
          },
          "metadata": {},
          "output_type": "display_data"
        },
        {
          "data": {
            "image/png": "[encoded data removed]",
            "text/plain": [
              "<Figure size 600x400 with 1 Axes>"
            ]
          },
          "metadata": {},
          "output_type": "display_data"
        }
      ],
      "source": [
        "# Simple plots to visualise outliers in numerical data\n",
        "import matplotlib.pyplot as plt\n",
        "\n",
        "# Create box plots for numerical columns to spot outliers\n",
        "numerical_cols = df.select_dtypes(include=[np.number]).columns\n",
        "\n",
        "print(\"Creating box plots to spot outliers...\")\n",
        "print(\"Look for dots outside the boxes - these might be outliers!\")\n",
        "\n",
        "# Create a plot for each numerical column\n",
        "for col in numerical_cols:\n",
        "    plt.figure(figsize=(6, 4))\n",
        "    plt.boxplot(df[col].dropna())\n",
        "    plt.title(f'Box Plot: {col}')\n",
        "    plt.ylabel(col)\n",
        "    plt.show()"
      ]
    },
    {
      "cell_type": "code",
      "execution_count": 23,
      "id": "251fab8d",
      "metadata": {
        "id": "251fab8d",
        "outputId": "b1215a99-e54e-4543-8834-75015225ac46"
      },
      "outputs": [
        {
          "name": "stdout",
          "output_type": "stream",
          "text": [
            "The maximum salary in USD value is: 13600000\n"
          ]
        }
      ],
      "source": [
        "# In the data science salary data, there is a very high salary value in USD that seems unrealistic.\n",
        "# Let's check the maximum salary value, and salary in usd value\n",
        "max_salary_usd = df['salary_in_usd'].max()\n",
        "print(f\"The maximum salary in USD value is: {max_salary_usd}\")"
      ]
    },
    {
      "cell_type": "code",
      "execution_count": 24,
      "id": "9a075d4d",
      "metadata": {
        "id": "9a075d4d",
        "outputId": "c4f4e989-4791-49fe-d202-92b7b4027032"
      },
      "outputs": [
        {
          "name": "stdout",
          "output_type": "stream",
          "text": [
            "Removed salaries above 1000000 USD. Remaining rows: 64620\n"
          ]
        }
      ],
      "source": [
        "# Let's remove this unrealistic value\n",
        "# Assuming the unrealistic value is above a certain threshold, e.g., 1 million USD\n",
        "threshold = 1_000_000  # Set your threshold here\n",
        "df = df[df['salary_in_usd'] <= threshold]\n",
        "print(f\"Removed salaries above {threshold} USD. Remaining rows: {df.shape[0]}\")"
      ]
    },
    {
      "cell_type": "markdown",
      "id": "be742fd4",
      "metadata": {
        "id": "be742fd4"
      },
      "source": [
        "## 7. Save Your Clean Data\n",
        "\n",
        "Once you're happy with your data cleaning, save it to a new file."
      ]
    },
    {
      "cell_type": "code",
      "execution_count": 25,
      "id": "535418fc",
      "metadata": {
        "id": "535418fc"
      },
      "outputs": [],
      "source": [
        "df.to_csv('cleaned_data.csv', index=False)  # Uncomment to save"
      ]
    },
    {
      "cell_type": "code",
      "execution_count": null,
      "id": "f6b0f8f8",
      "metadata": {
        "id": "f6b0f8f8"
      },
      "outputs": [],
      "source": []
    }
  ],
  "metadata": {
    "colab": {
      "include_colab_link": true,
      "provenance": []
    },
    "kernelspec": {
      "display_name": "Python 3",
      "language": "python",
      "name": "python3"
    },
    "language_info": {
      "codemirror_mode": {
        "name": "ipython",
        "version": 3
      },
      "file_extension": ".py",
      "mimetype": "text/x-python",
      "name": "python",
      "nbconvert_exporter": "python",
      "pygments_lexer": "ipython3",
      "version": "3.12.0"
    }
  },
  "nbformat": 4,
  "nbformat_minor": 5
}
