{
  "cells": [
    {
      "cell_type": "markdown",
      "metadata": {
        "id": "view-in-github",
        "colab_type": "text"
      },
      "source": [
        "<a href=\"https://colab.research.google.com/github/chiawld/UCL-Summer-School-Intro-to-AI-Course/blob/main/introduction/demonstrations.ipynb\" target=\"_parent\"><img src=\"https://colab.research.google.com/assets/colab-badge.svg\" alt=\"Open In Colab\"/></a>"
      ]
    },
    {
      "cell_type": "markdown",
      "metadata": {
        "id": "0mF1cFanx3Ko"
      },
      "source": [
        "# Welcome to AI Summer School! 🤖\n",
        "\n",
        "## What You'll Discover Today\n",
        "\n",
        "Welcome to your first hands-on experience with Artificial Intelligence! Whether you're already comfortable with programming or new to coding, this notebook will demonstrate some impressive AI applications that are shaping our world right now.\n",
        "\n",
        "**Don't worry about understanding every line of code** - the focus is on seeing AI in action and understanding its potential impact.\n",
        "\n",
        "### Today's AI Demonstrations:\n",
        "1. **Sentiment Analysis** - How computers interpret human emotions in text\n",
        "2. **Computer Vision** - Object detection and image analysis\n",
        "3. **Neural Style Transfer** - AI-powered artistic image transformation\n",
        "4. **Text Similarity** - Measuring semantic relationships between sentences\n",
        "5. **Current AI Tools** - Exploring today's most influential AI applications\n",
        "\n",
        "**Ready to explore?** Let's begin."
      ]
    },
    {
      "cell_type": "markdown",
      "metadata": {
        "id": "yy5TvyLax3Kp"
      },
      "source": [
        "## Running in Google Colab\n",
        "\n",
        "Google Colab provides free access to GPUs and has most AI libraries pre-installed, making it ideal for AI experimentation. Here's how to use this notebook effectively:\n",
        "\n",
        "### Getting Started:\n",
        "1. **Execute cells sequentially** - Click the play button (▶️) or use `Shift + Enter`\n",
        "2. **Wait for completion** - Let each cell finish before proceeding\n",
        "3. **Ignore warnings** - Most are informational and won't affect functionality\n",
        "4. **Experiment freely** - Feel free to modify parameters and try different inputs\n",
        "\n",
        "### Useful Tips:\n",
        "- **Runtime menu**: Use \"Restart and run all\" if you need a fresh start\n",
        "- **Save your work**: File → Save a copy in Drive\n",
        "- **GPU acceleration**: Runtime → Change runtime type → GPU (if available)\n",
        "\n",
        "---"
      ]
    },
    {
      "cell_type": "markdown",
      "metadata": {
        "id": "ChSqO5N_x3Kp"
      },
      "source": [
        "## Setting Up Our AI Environment\n",
        "\n",
        "Before we begin, we need to install and import the necessary AI libraries. These include:\n",
        "\n",
        "- **Transformers**: Pre-trained language models from Hugging Face\n",
        "- **TensorFlow**: Google's machine learning framework\n",
        "- **OpenCV & PIL**: Image processing libraries\n",
        "- **NumPy & Pandas**: Data manipulation tools\n",
        "- **Matplotlib**: Visualisation library\n",
        "\n",
        "The setup process involves two steps: installation and importing.\n",
        "\n",
        "### Installing Required Packages:"
      ]
    },
    {
      "cell_type": "code",
      "execution_count": 1,
      "metadata": {
        "colab": {
          "base_uri": "https://localhost:8080/"
        },
        "id": "jLx38nB9x3Kp",
        "outputId": "a548b270-46e6-4e79-c832-70214111231c"
      },
      "outputs": [
        {
          "output_type": "stream",
          "name": "stdout",
          "text": [
            "Installing AI libraries for Google Colab...\n",
            "This may take 2-3 minutes on first run.\n",
            "\u001b[2K   \u001b[90m━━━━━━━━━━━━━━━━━━━━━━━━━━━━━━━━━━━━━━━━\u001b[0m \u001b[32m363.4/363.4 MB\u001b[0m \u001b[31m4.6 MB/s\u001b[0m eta \u001b[36m0:00:00\u001b[0m\n",
            "\u001b[2K   \u001b[90m━━━━━━━━━━━━━━━━━━━━━━━━━━━━━━━━━━━━━━━━\u001b[0m \u001b[32m13.8/13.8 MB\u001b[0m \u001b[31m125.7 MB/s\u001b[0m eta \u001b[36m0:00:00\u001b[0m\n",
            "\u001b[2K   \u001b[90m━━━━━━━━━━━━━━━━━━━━━━━━━━━━━━━━━━━━━━━━\u001b[0m \u001b[32m24.6/24.6 MB\u001b[0m \u001b[31m83.5 MB/s\u001b[0m eta \u001b[36m0:00:00\u001b[0m\n",
            "\u001b[2K   \u001b[90m━━━━━━━━━━━━━━━━━━━━━━━━━━━━━━━━━━━━━━━━\u001b[0m \u001b[32m883.7/883.7 kB\u001b[0m \u001b[31m49.3 MB/s\u001b[0m eta \u001b[36m0:00:00\u001b[0m\n",
            "\u001b[2K   \u001b[90m━━━━━━━━━━━━━━━━━━━━━━━━━━━━━━━━━━━━━━━━\u001b[0m \u001b[32m664.8/664.8 MB\u001b[0m \u001b[31m1.6 MB/s\u001b[0m eta \u001b[36m0:00:00\u001b[0m\n",
            "\u001b[2K   \u001b[90m━━━━━━━━━━━━━━━━━━━━━━━━━━━━━━━━━━━━━━━━\u001b[0m \u001b[32m211.5/211.5 MB\u001b[0m \u001b[31m3.6 MB/s\u001b[0m eta \u001b[36m0:00:00\u001b[0m\n",
            "\u001b[2K   \u001b[90m━━━━━━━━━━━━━━━━━━━━━━━━━━━━━━━━━━━━━━━━\u001b[0m \u001b[32m56.3/56.3 MB\u001b[0m \u001b[31m8.6 MB/s\u001b[0m eta \u001b[36m0:00:00\u001b[0m\n",
            "\u001b[2K   \u001b[90m━━━━━━━━━━━━━━━━━━━━━━━━━━━━━━━━━━━━━━━━\u001b[0m \u001b[32m127.9/127.9 MB\u001b[0m \u001b[31m8.2 MB/s\u001b[0m eta \u001b[36m0:00:00\u001b[0m\n",
            "\u001b[2K   \u001b[90m━━━━━━━━━━━━━━━━━━━━━━━━━━━━━━━━━━━━━━━━\u001b[0m \u001b[32m207.5/207.5 MB\u001b[0m \u001b[31m2.3 MB/s\u001b[0m eta \u001b[36m0:00:00\u001b[0m\n",
            "\u001b[2K   \u001b[90m━━━━━━━━━━━━━━━━━━━━━━━━━━━━━━━━━━━━━━━━\u001b[0m \u001b[32m21.1/21.1 MB\u001b[0m \u001b[31m84.8 MB/s\u001b[0m eta \u001b[36m0:00:00\u001b[0m\n",
            "\u001b[2K   \u001b[90m━━━━━━━━━━━━━━━━━━━━━━━━━━━━━━━━━━━━━━━\u001b[0m \u001b[32m644.9/644.9 MB\u001b[0m \u001b[31m817.6 kB/s\u001b[0m eta \u001b[36m0:00:00\u001b[0m\n",
            "\u001b[2K   \u001b[90m━━━━━━━━━━━━━━━━━━━━━━━━━━━━━━━━━━━━━━━━\u001b[0m \u001b[32m4.7/4.7 MB\u001b[0m \u001b[31m115.3 MB/s\u001b[0m eta \u001b[36m0:00:00\u001b[0m\n",
            "\u001b[2K   \u001b[90m━━━━━━━━━━━━━━━━━━━━━━━━━━━━━━━━━━━━━━━━\u001b[0m \u001b[32m5.5/5.5 MB\u001b[0m \u001b[31m123.3 MB/s\u001b[0m eta \u001b[36m0:00:00\u001b[0m\n",
            "\u001b[?25h\u001b[31mERROR: pip's dependency resolver does not currently take into account all the packages that are installed. This behaviour is the source of the following dependency conflicts.\n",
            "tensorflow-text 2.18.1 requires tensorflow<2.19,>=2.18.0, but you have tensorflow 2.19.0 which is incompatible.\n",
            "tf-keras 2.18.0 requires tensorflow<2.19,>=2.18, but you have tensorflow 2.19.0 which is incompatible.\n",
            "tensorflow-decision-forests 1.11.0 requires tensorflow==2.18.0, but you have tensorflow 2.19.0 which is incompatible.\u001b[0m\u001b[31m\n",
            "\u001b[0mInstallation complete. Ready to proceed.\n"
          ]
        }
      ],
      "source": [
        "# Install required packages for this notebook\n",
        "print(\"Installing AI libraries for Google Colab...\")\n",
        "print(\"This may take 2-3 minutes on first run.\")\n",
        "\n",
        "!pip install -q transformers torch tensorflow-hub opencv-python-headless\n",
        "!pip install -q --upgrade tensorflow\n",
        "\n",
        "print(\"Installation complete. Ready to proceed.\")"
      ]
    },
    {
      "cell_type": "markdown",
      "metadata": {
        "id": "_uxZ7UF6x3Kq"
      },
      "source": [
        "### Importing Libraries:"
      ]
    },
    {
      "cell_type": "code",
      "execution_count": 2,
      "metadata": {
        "colab": {
          "base_uri": "https://localhost:8080/"
        },
        "id": "q9keViu4x3Kq",
        "outputId": "482443b4-c3c8-4dd6-f94a-1963028104da"
      },
      "outputs": [
        {
          "output_type": "stream",
          "name": "stdout",
          "text": [
            "Running in Google Colab environment\n",
            "GPU acceleration available\n",
            "\n",
            "Environment setup complete\n"
          ]
        }
      ],
      "source": [
        "# Environment check - verify we're running in Google Colab\n",
        "try:\n",
        "    import google.colab\n",
        "    print(\"Running in Google Colab environment\")\n",
        "\n",
        "    import tensorflow as tf\n",
        "    # Check for GPU availability\n",
        "    if tf.config.list_physical_devices('GPU'):\n",
        "        print(\"GPU acceleration available\")\n",
        "    else:\n",
        "        print(\"Using CPU (still suitable for this demonstration)\")\n",
        "\n",
        "except ImportError:\n",
        "    print(\"Running in standard Jupyter environment\")\n",
        "    print(\"Consider using Google Colab for optimal performance\")\n",
        "\n",
        "print(\"\\nEnvironment setup complete\")"
      ]
    },
    {
      "cell_type": "code",
      "execution_count": 3,
      "metadata": {
        "colab": {
          "base_uri": "https://localhost:8080/"
        },
        "id": "okydfhHyx3Kq",
        "outputId": "23866d5a-f5fc-44fc-e775-ba672561cc3e"
      },
      "outputs": [
        {
          "output_type": "stream",
          "name": "stdout",
          "text": [
            "All libraries imported successfully\n",
            "Ready for AI demonstrations\n"
          ]
        }
      ],
      "source": [
        "# Import essential libraries\n",
        "import numpy as np              # Numerical computing\n",
        "import pandas as pd             # Data manipulation\n",
        "import matplotlib.pyplot as plt # Plotting and visualisation\n",
        "import requests                 # HTTP requests for image downloads\n",
        "from PIL import Image          # Image processing\n",
        "from io import BytesIO         # Binary I/O operations\n",
        "\n",
        "# Machine learning and AI libraries\n",
        "import tensorflow as tf        # Deep learning framework\n",
        "import tensorflow_hub as hub   # Pre-trained model repository\n",
        "import torch                   # PyTorch deep learning framework\n",
        "from transformers import pipeline, BertModel, BertTokenizer  # NLP models\n",
        "from sklearn.metrics.pairwise import cosine_similarity       # Similarity metrics\n",
        "\n",
        "# Colab-specific image display\n",
        "import cv2\n",
        "from google.colab.patches import cv2_imshow\n",
        "\n",
        "print(\"All libraries imported successfully\")\n",
        "print(\"Ready for AI demonstrations\")"
      ]
    },
    {
      "cell_type": "markdown",
      "metadata": {
        "id": "2ZVdPybrx3Kq"
      },
      "source": [
        "## Section 1: Sentiment Analysis\n",
        "**Understanding Emotions in Text**\n",
        "\n",
        "Sentiment analysis is a fundamental NLP task that determines the emotional tone of text. It's widely used in business applications like customer feedback analysis, social media monitoring, and market research.\n",
        "\n",
        "We'll use a pre-trained model to analyse various text samples and observe its performance."
      ]
    },
    {
      "cell_type": "code",
      "execution_count": 4,
      "metadata": {
        "colab": {
          "base_uri": "https://localhost:8080/",
          "height": 361,
          "referenced_widgets": [
            "24af0d47db8546e5ac473dd892de0ca8",
            "8494c848fdba42978a2ab16ca4844732",
            "e19ef9306561493da70d44d389cd38ca",
            "fccf1c17e620414e93e50445a559dcf8",
            "bc437d0bf09a4e2d8f0eeb0f8dd13701",
            "cb5d0c81df374f0289b9042629f44a5e",
            "f75823b28647401db90c1ee20f2ee209",
            "2d97e8399c1b45b9ab3351c7b8601471",
            "f4bbc851f09745a6864d4bd3aba81e3e",
            "67ef9d938c47437eb8b0aa4b8912b59e",
            "b4c6316e65b7404bbe3adfa834615609",
            "e79c72f014224852ae63e39482554051",
            "b6799971f71549cc94a1c965b75dd1ed",
            "c762ba1496f744c198d8ed857a8cabd9",
            "8b4b70bbc1894188867147a7b0dd5fff",
            "98f2271fc0294a5298720f3fd13240ee",
            "d572065f952a408fba0bae2085d0f576",
            "77c1cae086fa40dba4a7ba4421389c14",
            "1b5f76861dc84f4da9c135677d319275",
            "c509a14d215c4b869d3deef3a0cfd9d7",
            "fe7df398a2434af18349a19c99f2b772",
            "a2cd386fe45e45b094eced9fd194602e",
            "e1fc9a056d2e49c2979b53270c1dd60d",
            "52202344583a4e8ab4ef7ff6874af901",
            "88efb19ce1c74abc98244082c831cd2e",
            "2d3e7e1259ca4e12b68ab58803ffd06f",
            "b6f0ec951736473d9c618ef886721f30",
            "ca132b364f974f3893dede1fa721803d",
            "6fec36b70ebb4ec08d049f9116c47a83",
            "2f934208d8f146b4873ce1e41cce08e7",
            "799837690d214ba7bc3a2826e52fd2ac",
            "bdfd4ebe58fb405cb06b1d496746131d",
            "622b3a85e1014ae9bced65750a6ca072",
            "902cb20d2c0140ad9f79c02aa3562289",
            "91d9d71da72d4cccbb5171c9955d2fbb",
            "7dfcbe90701c40bd9e1972d2347e47b6",
            "c63dc74482ca4a618834d78d8747db01",
            "127802ddc1c14de78a026d53a6262207",
            "670dd12110cf4115ad5f62615e9ddcf2",
            "aa21a1c305fb46d9b5eb0c437f63feac",
            "a8ac3924ef544688801caa3b5f5b7206",
            "ad7308f49f204dabab79cebf4ec1e259",
            "cb9eee1eff394e71a4497a93fa20e011",
            "9d7ee36815ab4a43bebce59c4400c226"
          ]
        },
        "id": "HgZy7luBx3Kq",
        "outputId": "11d89887-de28-4a84-8004-ec7fb6355027"
      },
      "outputs": [
        {
          "output_type": "stream",
          "name": "stderr",
          "text": [
            "No model was supplied, defaulted to distilbert/distilbert-base-uncased-finetuned-sst-2-english and revision 714eb0f (https://huggingface.co/distilbert/distilbert-base-uncased-finetuned-sst-2-english).\n",
            "Using a pipeline without specifying a model name and revision in production is not recommended.\n"
          ]
        },
        {
          "output_type": "stream",
          "name": "stdout",
          "text": [
            "Loading sentiment analysis model...\n"
          ]
        },
        {
          "output_type": "stream",
          "name": "stderr",
          "text": [
            "/usr/local/lib/python3.11/dist-packages/huggingface_hub/utils/_auth.py:94: UserWarning: \n",
            "The secret `HF_TOKEN` does not exist in your Colab secrets.\n",
            "To authenticate with the Hugging Face Hub, create a token in your settings tab (https://huggingface.co/settings/tokens), set it as secret in your Google Colab and restart your session.\n",
            "You will be able to reuse this secret in all of your notebooks.\n",
            "Please note that authentication is recommended but still optional to access public models or datasets.\n",
            "  warnings.warn(\n"
          ]
        },
        {
          "output_type": "display_data",
          "data": {
            "text/plain": [
              "config.json:   0%|          | 0.00/629 [00:00<?, ?B/s]"
            ],
            "application/vnd.jupyter.widget-view+json": {
              "version_major": 2,
              "version_minor": 0,
              "model_id": "24af0d47db8546e5ac473dd892de0ca8"
            }
          },
          "metadata": {}
        },
        {
          "output_type": "display_data",
          "data": {
            "text/plain": [
              "model.safetensors:   0%|          | 0.00/268M [00:00<?, ?B/s]"
            ],
            "application/vnd.jupyter.widget-view+json": {
              "version_major": 2,
              "version_minor": 0,
              "model_id": "e79c72f014224852ae63e39482554051"
            }
          },
          "metadata": {}
        },
        {
          "output_type": "display_data",
          "data": {
            "text/plain": [
              "tokenizer_config.json:   0%|          | 0.00/48.0 [00:00<?, ?B/s]"
            ],
            "application/vnd.jupyter.widget-view+json": {
              "version_major": 2,
              "version_minor": 0,
              "model_id": "e1fc9a056d2e49c2979b53270c1dd60d"
            }
          },
          "metadata": {}
        },
        {
          "output_type": "display_data",
          "data": {
            "text/plain": [
              "vocab.txt: 0.00B [00:00, ?B/s]"
            ],
            "application/vnd.jupyter.widget-view+json": {
              "version_major": 2,
              "version_minor": 0,
              "model_id": "902cb20d2c0140ad9f79c02aa3562289"
            }
          },
          "metadata": {}
        },
        {
          "output_type": "stream",
          "name": "stderr",
          "text": [
            "Device set to use cuda:0\n"
          ]
        },
        {
          "output_type": "stream",
          "name": "stdout",
          "text": [
            "Model loaded successfully\n"
          ]
        }
      ],
      "source": [
        "# Load pre-trained sentiment analysis model\n",
        "print(\"Loading sentiment analysis model...\")\n",
        "sentiment_analysis = pipeline(\"sentiment-analysis\")\n",
        "print(\"Model loaded successfully\")"
      ]
    },
    {
      "cell_type": "code",
      "execution_count": 14,
      "metadata": {
        "colab": {
          "base_uri": "https://localhost:8080/"
        },
        "id": "XjTQX9phx3Kq",
        "outputId": "df989edf-3ba1-41d6-b652-a73b0ea78168"
      },
      "outputs": [
        {
          "output_type": "stream",
          "name": "stdout",
          "text": [
            "Sample texts for analysis:\n",
            "1. I absolutely love this sunny weather!\n",
            "2. This traffic jam is incredibly frustrating\n",
            "3. The movie was okay, nothing special\n",
            "4. I'm feeling a bit down today\n",
            "5. This pizza is amazing!\n",
            "6. I can't believe my team won the championship!\n"
          ]
        }
      ],
      "source": [
        "# Sample texts with varying sentiment\n",
        "texts = [\n",
        "    \"I absolutely love this sunny weather!\",\n",
        "    \"This traffic jam is incredibly frustrating\",\n",
        "    \"The movie was okay, nothing special\",\n",
        "    \"I'm feeling a bit down today\",\n",
        "    \"This pizza is amazing!\",\n",
        "    \"I can't believe my team won the championship!\"\n",
        "]\n",
        "\n",
        "print(\"Sample texts for analysis:\")\n",
        "for i, text in enumerate(texts, 1):\n",
        "    print(f\"{i}. {text}\")"
      ]
    },
    {
      "cell_type": "code",
      "execution_count": 15,
      "metadata": {
        "colab": {
          "base_uri": "https://localhost:8080/"
        },
        "id": "gcoV76Ocx3Kq",
        "outputId": "fd0f6313-c28c-4c86-83ec-d335930b9ad0"
      },
      "outputs": [
        {
          "output_type": "stream",
          "name": "stdout",
          "text": [
            "Sentiment Analysis Results:\n",
            "==================================================\n",
            "+ \"I absolutely love this sunny weather!\"\n",
            "   Prediction: POSITIVE (Confidence: 100.0%)\n",
            "----------------------------------------\n",
            "- \"This traffic jam is incredibly frustrating\"\n",
            "   Prediction: NEGATIVE (Confidence: 99.9%)\n",
            "----------------------------------------\n",
            "- \"The movie was okay, nothing special\"\n",
            "   Prediction: NEGATIVE (Confidence: 99.5%)\n",
            "----------------------------------------\n",
            "- \"I'm feeling a bit down today\"\n",
            "   Prediction: NEGATIVE (Confidence: 99.9%)\n",
            "----------------------------------------\n",
            "+ \"This pizza is amazing!\"\n",
            "   Prediction: POSITIVE (Confidence: 100.0%)\n",
            "----------------------------------------\n",
            "+ \"I can't believe my team won the championship!\"\n",
            "   Prediction: POSITIVE (Confidence: 99.9%)\n",
            "----------------------------------------\n"
          ]
        }
      ],
      "source": [
        "# Analyse sentiment for each text sample\n",
        "print(\"Sentiment Analysis Results:\")\n",
        "print(\"=\" * 50)\n",
        "\n",
        "results = sentiment_analysis(texts)\n",
        "\n",
        "# Display results with confidence scores\n",
        "for text, result in zip(texts, results):\n",
        "    sentiment_icon = \"+\" if result['label'] == 'POSITIVE' else \"-\"\n",
        "    confidence = result['score'] * 100\n",
        "\n",
        "    print(f\"{sentiment_icon} \\\"{text}\\\"\")\n",
        "    print(f\"   Prediction: {result['label']} (Confidence: {confidence:.1f}%)\")\n",
        "    print(\"-\" * 40)"
      ]
    },
    {
      "cell_type": "code",
      "execution_count": 19,
      "metadata": {
        "colab": {
          "base_uri": "https://localhost:8080/"
        },
        "id": "i7wTOa1ix3Kq",
        "outputId": "e15aa8e5-25fe-4dc5-ec51-61e1574baa1f"
      },
      "outputs": [
        {
          "output_type": "stream",
          "name": "stdout",
          "text": [
            "Your Custom Text Analysis:\n",
            "+ \"You are punctual\"\n",
            "   Prediction: POSITIVE (Confidence: 67.7%)\n",
            "\n",
            "Try modifying the text above to test different phrases and expressions.\n"
          ]
        }
      ],
      "source": [
        "# Interactive testing - try your own text\n",
        "# Modify the text below to test different examples\n",
        "\n",
        "your_text = \"You are punctual\"\n",
        "# tested:\n",
        "# \"How are you?\" 97.1%\n",
        "# \"You are punctual\" 67.7%\n",
        "\n",
        "# Analyse your custom text\n",
        "your_result = sentiment_analysis([your_text])[0]\n",
        "sentiment_icon = \"+\" if your_result['label'] == 'POSITIVE' else \"-\"\n",
        "confidence = your_result['score'] * 100\n",
        "\n",
        "print(\"Your Custom Text Analysis:\")\n",
        "print(f\"{sentiment_icon} \\\"{your_text}\\\"\")\n",
        "print(f\"   Prediction: {your_result['label']} (Confidence: {confidence:.1f}%)\")\n",
        "print(\"\\nTry modifying the text above to test different phrases and expressions.\")"
      ]
    },
    {
      "cell_type": "markdown",
      "metadata": {
        "id": "5fl11cljx3Kq"
      },
      "source": [
        "### Challenge 1: Testing Model Limitations\n",
        "\n",
        "**Objective**: Explore edge cases where sentiment analysis might struggle.\n",
        "\n",
        "**Try these examples**:\n",
        "- Sarcastic statements: \"Oh great, another Monday...\"\n",
        "- Mixed emotions: \"I'm happy it's over but sad to leave\"\n",
        "- Context-dependent phrases: \"This is sick!\" (slang vs. literal)\n",
        "- Cultural references or idioms\n",
        "\n",
        "**Discussion points**:\n",
        "- How do confidence scores relate to your intuitive assessment?\n",
        "- What types of text seem to confuse the model?\n",
        "- How might training data bias affect results?"
      ]
    },
    {
      "cell_type": "markdown",
      "metadata": {
        "id": "2LutAoUQx3Kq"
      },
      "source": [
        "## Section 2: Computer Vision - Object Detection\n",
        "**Automated Visual Recognition**\n",
        "\n",
        "Object detection is a computer vision task that identifies and locates objects within images. This technology powers applications like autonomous vehicles, security systems, and photo organisation tools.\n",
        "\n",
        "We'll use a pre-trained model to analyse images and identify detected objects."
      ]
    },
    {
      "cell_type": "code",
      "execution_count": null,
      "metadata": {
        "id": "3dFrans2x3Kq"
      },
      "outputs": [],
      "source": [
        "# Utility function for downloading and displaying images\n",
        "def display_image(url, title=\"Image\"):\n",
        "    try:\n",
        "        print(f\"Downloading image from: {url}\")\n",
        "        response = requests.get(url)\n",
        "        img = Image.open(BytesIO(response.content)).convert(\"RGB\")\n",
        "\n",
        "        # Display the image\n",
        "        plt.figure(figsize=(8, 6))\n",
        "        plt.imshow(img)\n",
        "        plt.title(title, fontsize=14)\n",
        "        plt.axis('off')\n",
        "        plt.show()\n",
        "\n",
        "        print(f\"Image loaded - Size: {img.size}\")\n",
        "        return img, np.array(img)\n",
        "    except Exception as e:\n",
        "        print(f\"Error loading image: {e}\")\n",
        "        return None, None"
      ]
    },
    {
      "cell_type": "code",
      "execution_count": null,
      "metadata": {
        "id": "UgAhc4Gkx3Kq"
      },
      "outputs": [],
      "source": [
        "# Load pre-trained object detection model\n",
        "print(\"Loading object detection model...\")\n",
        "print(\"This model was trained on the COCO dataset with 80+ object categories\")\n",
        "detector = hub.load(\"https://tfhub.dev/tensorflow/ssd_mobilenet_v2/2\")\n",
        "print(\"Model loaded successfully\")"
      ]
    },
    {
      "cell_type": "code",
      "execution_count": null,
      "metadata": {
        "id": "h5uV8uObx3Kq"
      },
      "outputs": [],
      "source": [
        "# Select test image - urban street scene\n",
        "image_url = \"https://images.unsplash.com/photo-1449824913935-59a10b8d2000?ixlib=rb-4.0.3&ixid=M3wxMjA3fDB8MHxwaG90by1wYWdlfHx8fGVufDB8fHx8fA%3D%3D&auto=format&fit=crop&w=1000&q=80\"\n",
        "\n",
        "print(\"Test image: Urban street scene\")"
      ]
    },
    {
      "cell_type": "code",
      "execution_count": null,
      "metadata": {
        "id": "4ydzN7iVx3Kq"
      },
      "outputs": [],
      "source": [
        "# Load and display the test image\n",
        "img, imgarray = display_image(image_url, \"Original Image\")"
      ]
    },
    {
      "cell_type": "code",
      "execution_count": null,
      "metadata": {
        "id": "afwalqZsx3Kq"
      },
      "outputs": [],
      "source": [
        "# Prepare image for model input\n",
        "print(\"Preprocessing image for analysis...\")\n",
        "img = img.resize((640, 480))  # Resize to model's expected input size\n",
        "img_tensor = tf.convert_to_tensor(np.array(img), dtype=tf.uint8)\n",
        "img_tensor = tf.expand_dims(img_tensor, axis=0)  # Add batch dimension\n",
        "print(\"Image preprocessing complete\")"
      ]
    },
    {
      "cell_type": "code",
      "execution_count": null,
      "metadata": {
        "id": "vB-Hs0ypx3Kr"
      },
      "outputs": [],
      "source": [
        "# Run object detection inference\n",
        "print(\"Running object detection...\")\n",
        "print(\"Identifying objects and their locations...\")\n",
        "result = detector(img_tensor)\n",
        "print(\"Detection complete\")"
      ]
    },
    {
      "cell_type": "code",
      "execution_count": null,
      "metadata": {
        "id": "ggWsb50Gx3Kr"
      },
      "outputs": [],
      "source": [
        "# Function to draw bounding boxes on the image\n",
        "def draw_boxes(image, boxes, class_names, scores, max_boxes=10, min_score=0.5):\n",
        "    colors = list(plt.cm.tab20(np.linspace(0, 1, 20)))\n",
        "    font = cv2.FONT_HERSHEY_SIMPLEX\n",
        "    for i in range(min(max_boxes, boxes.shape[0])):\n",
        "        if scores[i] >= min_score:\n",
        "            color = colors[int(class_names[i]) % len(colors)]\n",
        "            ymin, xmin, ymax, xmax = tuple(boxes[i])\n",
        "            image = cv2.rectangle(image, (int(xmin * img.width), int(ymin * img.height)),\n",
        "                                  (int(xmax * img.width), int(ymax * img.height)), color, 2)\n",
        "            image = cv2.putText(image, str(int(class_names[i])), (int(xmin * img.width), int(ymin * img.height) - 10),\n",
        "                                font, 0.5, color, 2)\n",
        "    return image"
      ]
    },
    {
      "cell_type": "code",
      "execution_count": null,
      "metadata": {
        "id": "ZaAPawUIx3Kr"
      },
      "outputs": [],
      "source": [
        "# Extract detection results\n",
        "boxes = result[\"detection_boxes\"][0].numpy()\n",
        "class_names = result[\"detection_classes\"][0].numpy()\n",
        "scores = result[\"detection_scores\"][0].numpy()"
      ]
    },
    {
      "cell_type": "code",
      "execution_count": null,
      "metadata": {
        "id": "0T3Yt0kmx3Kr"
      },
      "outputs": [],
      "source": [
        "# Draw bounding boxes on the image\n",
        "output_img = draw_boxes(np.array(img), boxes, class_names, scores)"
      ]
    },
    {
      "cell_type": "code",
      "execution_count": null,
      "metadata": {
        "id": "UNR-MH-Vx3Kr"
      },
      "outputs": [],
      "source": [
        "# Display detection results\n",
        "print(\"Object Detection Results:\")\n",
        "\n",
        "# Use cv2_imshow for Colab compatibility\n",
        "cv2_imshow(output_img)\n",
        "\n",
        "# Also display with matplotlib\n",
        "plt.figure(figsize=(12, 8))\n",
        "plt.imshow(cv2.cvtColor(output_img, cv2.COLOR_BGR2RGB))\n",
        "plt.title(\"Detected Objects with Bounding Boxes\", fontsize=16)\n",
        "plt.axis('off')\n",
        "plt.show()\n",
        "\n",
        "print(\"Each coloured box represents a detected object with its class ID\")"
      ]
    },
    {
      "cell_type": "markdown",
      "metadata": {
        "id": "Wd8368Iax3Kr"
      },
      "source": [
        "### Challenge 2: Model Robustness Testing\n",
        "\n",
        "**Objective**: Test the object detection model with challenging scenarios.\n",
        "\n",
        "**Suggested test cases**:\n",
        "- Crowded scenes with overlapping objects\n",
        "- Unusual viewing angles or lighting conditions  \n",
        "- Abstract or artistic images\n",
        "- Very small or very large scale objects\n",
        "- Partially occluded objects\n",
        "\n",
        "**Image search suggestions**:\n",
        "- \"crowded marketplace\"\n",
        "- \"abstract geometric art\"\n",
        "- \"extreme close-up photography\"\n",
        "- \"low light photography\"\n",
        "\n",
        "**Analysis questions**:\n",
        "- What object categories does the model handle well/poorly?\n",
        "- How does object size affect detection accuracy?\n",
        "- What are the implications for real-world applications like autonomous vehicles?"
      ]
    },
    {
      "cell_type": "markdown",
      "metadata": {
        "id": "z_cW0O1Zx3Kr"
      },
      "source": [
        "## Section 3: Neural Style Transfer\n",
        "**Artistic Image Transformation**\n",
        "\n",
        "Neural style transfer combines the content of one image with the artistic style of another using deep neural networks. This technique demonstrates how AI can learn and apply artistic patterns, with applications in creative industries and image processing.\n",
        "\n",
        "Let's explore this fascinating intersection of art and technology."
      ]
    },
    {
      "cell_type": "code",
      "execution_count": null,
      "metadata": {
        "id": "t2t_MBG7x3Kr"
      },
      "outputs": [],
      "source": [
        "# Load AI artist model\n",
        "print(\"🎨 Loading AI art studio...\")\n",
        "print(\"   This AI learned from thousands of famous paintings!\")\n",
        "style_transfer_model = hub.load(\"https://tfhub.dev/google/magenta/arbitrary-image-stylization-v1-256/2\")\n",
        "print(\"✅ AI artist ready to create masterpieces!\")"
      ]
    },
    {
      "cell_type": "code",
      "execution_count": null,
      "metadata": {
        "id": "obPRIDLax3Kr"
      },
      "outputs": [],
      "source": [
        "# Choose our content image (what we want to paint) and style image (how we want to paint it)\n",
        "content_image_url = \"https://images.unsplash.com/photo-1535930891776-0c2dfb7fda1a?ixlib=rb-4.0.3&auto=format&fit=crop&w=400&q=80\"\n",
        "style_image_url = \"https://upload.wikimedia.org/wikipedia/commons/thumb/e/ea/Van_Gogh_-_Starry_Night_-_Google_Art_Project.jpg/400px-Van_Gogh_-_Starry_Night_-_Google_Art_Project.jpg\"\n",
        "\n",
        "print(\"🖼️  Content Image: A beautiful landscape\")\n",
        "print(\"🎨 Style Image: Van Gogh's 'Starry Night'\")"
      ]
    },
    {
      "cell_type": "code",
      "execution_count": null,
      "metadata": {
        "id": "LjKdqPnQx3Kr"
      },
      "outputs": [],
      "source": [
        "# Let's see our source images\n",
        "print(\"📷 CONTENT IMAGE (what to paint):\")\n",
        "content_img, content_array = display_image(content_image_url, \"Content Image\")\n",
        "\n",
        "print(\"\\n🎨 STYLE IMAGE (how to paint it):\")\n",
        "style_img, style_array = display_image(style_image_url, \"Style Image - Van Gogh's Starry Night\")"
      ]
    },
    {
      "cell_type": "code",
      "execution_count": null,
      "metadata": {
        "id": "Af3YCl-yx3Kr"
      },
      "outputs": [],
      "source": [
        "# Prepare both images for the AI artist\n",
        "print(\"🔧 Preparing images for AI art creation...\")\n",
        "\n",
        "# Process content image\n",
        "content_image = tf.convert_to_tensor(content_array, dtype=tf.float32)\n",
        "content_image = tf.image.resize(content_image, (256, 256)) / 255.0\n",
        "content_image = tf.expand_dims(content_image, axis=0)\n",
        "\n",
        "# Process style image\n",
        "style_image = tf.convert_to_tensor(style_array, dtype=tf.float32)\n",
        "style_image = tf.image.resize(style_image, (256, 256)) / 255.0\n",
        "style_image = tf.expand_dims(style_image, axis=0)\n",
        "\n",
        "print(\"✅ Images ready for artistic transformation!\")\n"
      ]
    },
    {
      "cell_type": "code",
      "execution_count": null,
      "metadata": {
        "id": "23fiQPJ0x3Kr"
      },
      "outputs": [],
      "source": [
        "# 🎨 The magic happens here! AI creates art!\n",
        "print(\"🤖 AI is painting... combining content with Van Gogh's style...\")\n",
        "stylized_image = style_transfer_model(tf.constant(content_image), tf.constant(style_image))[0]\n",
        "print(\"✅ Masterpiece created!\")"
      ]
    },
    {
      "cell_type": "code",
      "execution_count": null,
      "metadata": {
        "id": "IfXl8HSwx3Kr"
      },
      "outputs": [],
      "source": [
        "# 🖼️ Reveal the AI artwork!\n",
        "plt.figure(figsize=(10, 8))\n",
        "plt.imshow(stylized_image[0])\n",
        "plt.title('🎨 AI-Generated Artwork\\n(Original photo painted in Van Gogh style!)', fontsize=16)\n",
        "plt.axis('off')\n",
        "plt.show()\n",
        "\n",
        "print(\"🎉 Amazing! The AI combined your photo with Van Gogh's painting style!\")\n",
        "print(\"💡 Try different images and see what the AI creates!\")"
      ]
    },
    {
      "cell_type": "markdown",
      "metadata": {
        "id": "up6ruCBfx3Kr"
      },
      "source": [
        "### 🎮 Challenge 3: Become an AI Art Critic!\n",
        "\n",
        "**Your Mission**: Test the style transfer with different combinations and rate the results!\n",
        "\n",
        "**Experiment with**:\n",
        "- Different artistic styles (Picasso, Monet, modern art)\n",
        "- Various content images (portraits, landscapes, architecture)  \n",
        "- Unusual combinations (cartoon + classical art, etc.)\n",
        "\n",
        "**Alternative Models to Try**:\n",
        "- 🔗 **TensorFlow Style Transfer Tutorial**: https://www.tensorflow.org/tutorials/generative/style_transfer\n",
        "- 🔗 **PyTorch Neural Style Tutorial**: https://pytorch.org/tutorials/advanced/neural_style_tutorial.html\n",
        "\n",
        "**Questions to explore**:\n",
        "- Which style-content combinations work best?\n",
        "- What makes a \"successful\" style transfer?\n",
        "- How does this compare to human artists?\n",
        "- Could this help or hurt human creativity?"
      ]
    },
    {
      "cell_type": "markdown",
      "metadata": {
        "id": "7jp_qz_zx3Kr"
      },
      "source": [
        "## Section 4: Semantic Text Similarity\n",
        "**Measuring Meaning in Language**\n",
        "\n",
        "Semantic similarity measures how closely related two pieces of text are in meaning, beyond simple word matching. This technology is fundamental to search engines, recommendation systems, and natural language understanding applications.\n",
        "\n",
        "We'll use BERT embeddings to compute similarity scores between sentence pairs."
      ]
    },
    {
      "cell_type": "code",
      "execution_count": null,
      "metadata": {
        "id": "jdNEoJF4x3Kr"
      },
      "outputs": [],
      "source": [
        "# Load BERT model for semantic similarity\n",
        "print(\"Loading BERT language model...\")\n",
        "print(\"BERT (Bidirectional Encoder Representations from Transformers)\")\n",
        "model_name = 'bert-base-uncased'\n",
        "tokenizer = BertTokenizer.from_pretrained(model_name)\n",
        "model = BertModel.from_pretrained(model_name)\n",
        "print(\"BERT model loaded successfully\")"
      ]
    },
    {
      "cell_type": "code",
      "execution_count": null,
      "metadata": {
        "id": "TzEh1sQax3Kr"
      },
      "outputs": [],
      "source": [
        "def get_sentence_embedding(sentence):\n",
        "    # Tokenize the input sentence\n",
        "    inputs = tokenizer(sentence, return_tensors='pt', truncation=True, padding=True, max_length=512)\n",
        "    # Get the hidden states from the model\n",
        "    with torch.no_grad():\n",
        "        outputs = model(**inputs)\n",
        "    # Take the mean of the token embeddings from the last hidden state\n",
        "    embeddings = outputs.last_hidden_state.mean(dim=1)\n",
        "    return embeddings.numpy()"
      ]
    },
    {
      "cell_type": "code",
      "execution_count": null,
      "metadata": {
        "id": "QxqxL0mjx3Kr"
      },
      "outputs": [],
      "source": [
        "def compute_similarity(sentence1, sentence2):\n",
        "    # Get sentence embeddings for both sentences\n",
        "    embedding1 = get_sentence_embedding(sentence1)\n",
        "    embedding2 = get_sentence_embedding(sentence2)\n",
        "    # Compute cosine similarity between the embeddings\n",
        "    similarity = cosine_similarity(embedding1, embedding2)[0][0]\n",
        "    return similarity"
      ]
    },
    {
      "cell_type": "code",
      "execution_count": null,
      "metadata": {
        "id": "y0rawrrPx3Kr"
      },
      "outputs": [],
      "source": [
        "# Test different sentence pairs to see how similar they are\n",
        "sentence_pairs = [\n",
        "    (\"AI is transforming the world.\", \"Artificial intelligence is changing everything.\"),\n",
        "    (\"The cat is sleeping peacefully.\", \"A feline is napping quietly.\"),\n",
        "    (\"I love pizza!\", \"Pizza is terrible.\"),\n",
        "    (\"The weather is sunny today.\", \"Today is a bright, clear day.\"),\n",
        "    (\"Programming is fun!\", \"I hate vegetables.\")\n",
        "]\n",
        "\n",
        "print(\"🔍 Testing these sentence pairs for similarity:\")\n",
        "for i, (s1, s2) in enumerate(sentence_pairs, 1):\n",
        "    print(f\"\\n{i}. Sentence A: '{s1}'\")\n",
        "    print(f\"   Sentence B: '{s2}'\")"
      ]
    },
    {
      "cell_type": "code",
      "execution_count": null,
      "metadata": {
        "id": "SBoKHBpfx3Kr"
      },
      "outputs": [],
      "source": [
        "# Let's see how similar each pair is!\n",
        "print(\"\\n🤖 AI Similarity Analysis Results:\")\n",
        "print(\"=\" * 50)\n",
        "\n",
        "for i, (sentence1, sentence2) in enumerate(sentence_pairs, 1):\n",
        "    similarity_score = compute_similarity(sentence1, sentence2)\n",
        "\n",
        "    # Add interpretation\n",
        "    if similarity_score > 0.8:\n",
        "        interpretation = \"Very Similar! 🎯\"\n",
        "    elif similarity_score > 0.6:\n",
        "        interpretation = \"Quite Similar 👍\"\n",
        "    elif similarity_score > 0.4:\n",
        "        interpretation = \"Somewhat Similar 🤔\"\n",
        "    else:\n",
        "        interpretation = \"Not Very Similar 🚫\"\n",
        "\n",
        "    print(f\"\\n{i}. Pair {i}:\")\n",
        "    print(f\"   A: '{sentence1}'\")\n",
        "    print(f\"   B: '{sentence2}'\")\n",
        "    print(f\"   Similarity: {similarity_score:.3f} - {interpretation}\")\n",
        "\n",
        "print(\"\\n💡 1.0 means identical, 0.0 means completely different!\")"
      ]
    },
    {
      "cell_type": "code",
      "execution_count": null,
      "metadata": {
        "id": "dYOvqDodx3Ks"
      },
      "outputs": [],
      "source": [
        "# 🎮 YOUR TURN! Test your own sentences\n",
        "# Try to find two sentences that seem similar to you but confuse the AI\n",
        "\n",
        "your_sentence1 = \"Change this to your first sentence\"\n",
        "your_sentence2 = \"Change this to your second sentence\"\n",
        "\n",
        "your_similarity = compute_similarity(your_sentence1, your_sentence2)\n",
        "\n",
        "if your_similarity > 0.8:\n",
        "    interpretation = \"Very Similar! 🎯\"\n",
        "elif your_similarity > 0.6:\n",
        "    interpretation = \"Quite Similar 👍\"\n",
        "elif your_similarity > 0.4:\n",
        "    interpretation = \"Somewhat Similar 🤔\"\n",
        "else:\n",
        "    interpretation = \"Not Very Similar 🚫\"\n",
        "\n",
        "print(\"🔍 Your Sentence Similarity Test:\")\n",
        "print(f\"Sentence 1: '{your_sentence1}'\")\n",
        "print(f\"Sentence 2: '{your_sentence2}'\")\n",
        "print(f\"AI Similarity Score: {your_similarity:.3f} - {interpretation}\")\n",
        "print(\"\\n🏆 Challenge: Can you get a score of exactly 0.500?\")"
      ]
    },
    {
      "cell_type": "markdown",
      "metadata": {
        "id": "_EvpKbtLx3Ks"
      },
      "source": [
        "### 🎮 Challenge 4: The Similarity Score Olympics!\n",
        "\n",
        "**Your Mission**: Test the AI's understanding of language similarity!\n",
        "\n",
        "**Challenges to try**:\n",
        "1. **The Perfect Match**: Can you find two different sentences that get a similarity score of exactly 0.900?\n",
        "2. **The Synonym Test**: Do synonyms always get high scores? Test \"big\" vs \"large\", \"happy\" vs \"joyful\"\n",
        "3. **The Translation Test**: Compare \"Hello\" with \"Hola\" (or other languages you know)\n",
        "4. **The Context Test**: Do sentences with the same words but different meanings confuse the AI?\n",
        "\n",
        "**Examples to explore**:\n",
        "- \"The bank was closed\" vs \"The river bank was muddy\"\n",
        "- \"Time flies like an arrow\" vs \"Fruit flies like a banana\"  \n",
        "- \"I saw her duck\" vs \"I saw her duck under the table\"\n",
        "\n",
        "**Discussion Points**:\n",
        "- When does the AI get similarity \"wrong\" in your opinion?\n",
        "- How might cultural context affect similarity scores?\n",
        "- What are the limitations of measuring meaning mathematically?\n",
        "\n",
        "### 🏆 **Leaderboard Challenge**: Who can achieve the highest similarity score between two completely different-looking sentences?"
      ]
    },
    {
      "cell_type": "markdown",
      "metadata": {
        "id": "QWfJOBIhx3Ks"
      },
      "source": [
        "## Current AI Tools and Applications\n",
        "\n",
        "The AI landscape is rapidly evolving. Here are some notable current applications and tools that demonstrate the practical impact of AI technologies:\n",
        "\n",
        "### Image Generation and Computer Vision\n",
        "- **DALL-E 3** (OpenAI): Text-to-image generation → https://openai.com/dall-e-3\n",
        "- **Midjourney**: AI art generation platform → https://midjourney.com\n",
        "- **Stable Diffusion**: Open-source image generation → https://stablediffusionweb.com\n",
        "\n",
        "### Natural Language Processing\n",
        "- **ChatGPT**: Conversational AI system → https://chatgpt.com\n",
        "- **Claude**: AI assistant by Anthropic → https://claude.ai\n",
        "- **Perplexity**: AI-enhanced search engine → https://perplexity.ai\n",
        "\n",
        "### Audio and Media Processing\n",
        "- **Suno**: AI music generation → https://suno.com\n",
        "- **ElevenLabs**: Voice synthesis and cloning → https://elevenlabs.io\n",
        "- **RunwayML**: AI-powered video editing → https://runwayml.com\n",
        "\n",
        "### Development Tools\n",
        "- **GitHub Copilot**: AI code completion\n",
        "- **Codeium**: AI programming assistant\n",
        "- Many of these tools can be integrated with or run alongside Google Colab"
      ]
    },
    {
      "cell_type": "markdown",
      "metadata": {
        "id": "_idxFDhBx3Ks"
      },
      "source": [
        "### Exploration Activities\n",
        "\n",
        "**Practical exercises to deepen understanding**:\n",
        "\n",
        "1. **Prompt Engineering**: Experiment with different text inputs for AI image generators\n",
        "2. **Comparative Analysis**: Test the same prompt across different AI chat systems\n",
        "3. **Technical Investigation**: Use ChatGPT or similar tools to explain code snippets from this notebook\n",
        "4. **Creative Applications**: Generate content (music, images, text) and analyse the results\n",
        "\n",
        "### Discussion Topics\n",
        "\n",
        "Consider these questions as you explore AI applications:\n",
        "- Which demonstration was most impressive from a technical standpoint?\n",
        "- What are the potential societal implications of these technologies?\n",
        "- How might AI development affect different industries and professions?\n",
        "- What ethical considerations should guide AI development and deployment?"
      ]
    },
    {
      "cell_type": "markdown",
      "metadata": {
        "id": "0o_lnZhmx3Ks"
      },
      "source": [
        "### Course Overview\n",
        "\n",
        "This introductory session provides a foundation for the following topics:\n",
        "\n",
        "- **Day 2**: Python programming fundamentals and data preprocessing\n",
        "- **Day 3**: Supervised machine learning algorithms and evaluation\n",
        "- **Day 4**: Unsupervised learning techniques and pattern discovery  \n",
        "- **Day 5**: Neural networks and deep learning architectures\n",
        "- **Day 6**: Natural language processing and text analysis\n",
        "- **Day 8**: Reinforcement learning and decision-making systems\n",
        "- **Day 10**: Modern AI frameworks and implementation tools\n",
        "\n",
        "### Saving and Sharing Your Work\n",
        "\n",
        "**Google Colab Options**:\n",
        "- Save to Google Drive: File → Save a copy in Drive\n",
        "- Share with others: File → Share (similar to Google Docs)\n",
        "- Export notebook: File → Download → Download .ipynb\n",
        "\n",
        "### Summary\n",
        "\n",
        "Today's demonstrations showcased several core AI capabilities that are transforming multiple industries. You've seen practical implementations of sentiment analysis, computer vision, neural style transfer, and semantic similarity measurement.\n",
        "\n",
        "These technologies represent just a fraction of current AI capabilities. As we progress through the course, you'll gain deeper understanding of the underlying principles and learn to implement similar systems yourself.\n",
        "\n",
        "**The field of AI continues to evolve rapidly - you're now equipped to explore and understand these developments.**"
      ]
    }
  ],
  "metadata": {
    "kernelspec": {
      "display_name": "Python 3",
      "name": "python3"
    },
    "language_info": {
      "codemirror_mode": {
        "name": "ipython",
        "version": 3
      },
      "file_extension": ".py",
      "mimetype": "text/x-python",
      "name": "python",
      "nbconvert_exporter": "python",
      "pygments_lexer": "ipython3",
      "version": "3.11.11"
    },
    "colab": {
      "provenance": [],
      "gpuType": "T4",
      "include_colab_link": true
    },
    "accelerator": "GPU",
    "widgets": {
      "application/vnd.jupyter.widget-state+json": {
        "24af0d47db8546e5ac473dd892de0ca8": {
          "model_module": "@jupyter-widgets/controls",
          "model_name": "HBoxModel",
          "model_module_version": "1.5.0",
          "state": {
            "_dom_classes": [],
            "_model_module": "@jupyter-widgets/controls",
            "_model_module_version": "1.5.0",
            "_model_name": "HBoxModel",
            "_view_count": null,
            "_view_module": "@jupyter-widgets/controls",
            "_view_module_version": "1.5.0",
            "_view_name": "HBoxView",
            "box_style": "",
            "children": [
              "IPY_MODEL_8494c848fdba42978a2ab16ca4844732",
              "IPY_MODEL_e19ef9306561493da70d44d389cd38ca",
              "IPY_MODEL_fccf1c17e620414e93e50445a559dcf8"
            ],
            "layout": "IPY_MODEL_bc437d0bf09a4e2d8f0eeb0f8dd13701"
          }
        },
        "8494c848fdba42978a2ab16ca4844732": {
          "model_module": "@jupyter-widgets/controls",
          "model_name": "HTMLModel",
          "model_module_version": "1.5.0",
          "state": {
            "_dom_classes": [],
            "_model_module": "@jupyter-widgets/controls",
            "_model_module_version": "1.5.0",
            "_model_name": "HTMLModel",
            "_view_count": null,
            "_view_module": "@jupyter-widgets/controls",
            "_view_module_version": "1.5.0",
            "_view_name": "HTMLView",
            "description": "",
            "description_tooltip": null,
            "layout": "IPY_MODEL_cb5d0c81df374f0289b9042629f44a5e",
            "placeholder": "​",
            "style": "IPY_MODEL_f75823b28647401db90c1ee20f2ee209",
            "value": "config.json: 100%"
          }
        },
        "e19ef9306561493da70d44d389cd38ca": {
          "model_module": "@jupyter-widgets/controls",
          "model_name": "FloatProgressModel",
          "model_module_version": "1.5.0",
          "state": {
            "_dom_classes": [],
            "_model_module": "@jupyter-widgets/controls",
            "_model_module_version": "1.5.0",
            "_model_name": "FloatProgressModel",
            "_view_count": null,
            "_view_module": "@jupyter-widgets/controls",
            "_view_module_version": "1.5.0",
            "_view_name": "ProgressView",
            "bar_style": "success",
            "description": "",
            "description_tooltip": null,
            "layout": "IPY_MODEL_2d97e8399c1b45b9ab3351c7b8601471",
            "max": 629,
            "min": 0,
            "orientation": "horizontal",
            "style": "IPY_MODEL_f4bbc851f09745a6864d4bd3aba81e3e",
            "value": 629
          }
        },
        "fccf1c17e620414e93e50445a559dcf8": {
          "model_module": "@jupyter-widgets/controls",
          "model_name": "HTMLModel",
          "model_module_version": "1.5.0",
          "state": {
            "_dom_classes": [],
            "_model_module": "@jupyter-widgets/controls",
            "_model_module_version": "1.5.0",
            "_model_name": "HTMLModel",
            "_view_count": null,
            "_view_module": "@jupyter-widgets/controls",
            "_view_module_version": "1.5.0",
            "_view_name": "HTMLView",
            "description": "",
            "description_tooltip": null,
            "layout": "IPY_MODEL_67ef9d938c47437eb8b0aa4b8912b59e",
            "placeholder": "​",
            "style": "IPY_MODEL_b4c6316e65b7404bbe3adfa834615609",
            "value": " 629/629 [00:00&lt;00:00, 64.6kB/s]"
          }
        },
        "bc437d0bf09a4e2d8f0eeb0f8dd13701": {
          "model_module": "@jupyter-widgets/base",
          "model_name": "LayoutModel",
          "model_module_version": "1.2.0",
          "state": {
            "_model_module": "@jupyter-widgets/base",
            "_model_module_version": "1.2.0",
            "_model_name": "LayoutModel",
            "_view_count": null,
            "_view_module": "@jupyter-widgets/base",
            "_view_module_version": "1.2.0",
            "_view_name": "LayoutView",
            "align_content": null,
            "align_items": null,
            "align_self": null,
            "border": null,
            "bottom": null,
            "display": null,
            "flex": null,
            "flex_flow": null,
            "grid_area": null,
            "grid_auto_columns": null,
            "grid_auto_flow": null,
            "grid_auto_rows": null,
            "grid_column": null,
            "grid_gap": null,
            "grid_row": null,
            "grid_template_areas": null,
            "grid_template_columns": null,
            "grid_template_rows": null,
            "height": null,
            "justify_content": null,
            "justify_items": null,
            "left": null,
            "margin": null,
            "max_height": null,
            "max_width": null,
            "min_height": null,
            "min_width": null,
            "object_fit": null,
            "object_position": null,
            "order": null,
            "overflow": null,
            "overflow_x": null,
            "overflow_y": null,
            "padding": null,
            "right": null,
            "top": null,
            "visibility": null,
            "width": null
          }
        },
        "cb5d0c81df374f0289b9042629f44a5e": {
          "model_module": "@jupyter-widgets/base",
          "model_name": "LayoutModel",
          "model_module_version": "1.2.0",
          "state": {
            "_model_module": "@jupyter-widgets/base",
            "_model_module_version": "1.2.0",
            "_model_name": "LayoutModel",
            "_view_count": null,
            "_view_module": "@jupyter-widgets/base",
            "_view_module_version": "1.2.0",
            "_view_name": "LayoutView",
            "align_content": null,
            "align_items": null,
            "align_self": null,
            "border": null,
            "bottom": null,
            "display": null,
            "flex": null,
            "flex_flow": null,
            "grid_area": null,
            "grid_auto_columns": null,
            "grid_auto_flow": null,
            "grid_auto_rows": null,
            "grid_column": null,
            "grid_gap": null,
            "grid_row": null,
            "grid_template_areas": null,
            "grid_template_columns": null,
            "grid_template_rows": null,
            "height": null,
            "justify_content": null,
            "justify_items": null,
            "left": null,
            "margin": null,
            "max_height": null,
            "max_width": null,
            "min_height": null,
            "min_width": null,
            "object_fit": null,
            "object_position": null,
            "order": null,
            "overflow": null,
            "overflow_x": null,
            "overflow_y": null,
            "padding": null,
            "right": null,
            "top": null,
            "visibility": null,
            "width": null
          }
        },
        "f75823b28647401db90c1ee20f2ee209": {
          "model_module": "@jupyter-widgets/controls",
          "model_name": "DescriptionStyleModel",
          "model_module_version": "1.5.0",
          "state": {
            "_model_module": "@jupyter-widgets/controls",
            "_model_module_version": "1.5.0",
            "_model_name": "DescriptionStyleModel",
            "_view_count": null,
            "_view_module": "@jupyter-widgets/base",
            "_view_module_version": "1.2.0",
            "_view_name": "StyleView",
            "description_width": ""
          }
        },
        "2d97e8399c1b45b9ab3351c7b8601471": {
          "model_module": "@jupyter-widgets/base",
          "model_name": "LayoutModel",
          "model_module_version": "1.2.0",
          "state": {
            "_model_module": "@jupyter-widgets/base",
            "_model_module_version": "1.2.0",
            "_model_name": "LayoutModel",
            "_view_count": null,
            "_view_module": "@jupyter-widgets/base",
            "_view_module_version": "1.2.0",
            "_view_name": "LayoutView",
            "align_content": null,
            "align_items": null,
            "align_self": null,
            "border": null,
            "bottom": null,
            "display": null,
            "flex": null,
            "flex_flow": null,
            "grid_area": null,
            "grid_auto_columns": null,
            "grid_auto_flow": null,
            "grid_auto_rows": null,
            "grid_column": null,
            "grid_gap": null,
            "grid_row": null,
            "grid_template_areas": null,
            "grid_template_columns": null,
            "grid_template_rows": null,
            "height": null,
            "justify_content": null,
            "justify_items": null,
            "left": null,
            "margin": null,
            "max_height": null,
            "max_width": null,
            "min_height": null,
            "min_width": null,
            "object_fit": null,
            "object_position": null,
            "order": null,
            "overflow": null,
            "overflow_x": null,
            "overflow_y": null,
            "padding": null,
            "right": null,
            "top": null,
            "visibility": null,
            "width": null
          }
        },
        "f4bbc851f09745a6864d4bd3aba81e3e": {
          "model_module": "@jupyter-widgets/controls",
          "model_name": "ProgressStyleModel",
          "model_module_version": "1.5.0",
          "state": {
            "_model_module": "@jupyter-widgets/controls",
            "_model_module_version": "1.5.0",
            "_model_name": "ProgressStyleModel",
            "_view_count": null,
            "_view_module": "@jupyter-widgets/base",
            "_view_module_version": "1.2.0",
            "_view_name": "StyleView",
            "bar_color": null,
            "description_width": ""
          }
        },
        "67ef9d938c47437eb8b0aa4b8912b59e": {
          "model_module": "@jupyter-widgets/base",
          "model_name": "LayoutModel",
          "model_module_version": "1.2.0",
          "state": {
            "_model_module": "@jupyter-widgets/base",
            "_model_module_version": "1.2.0",
            "_model_name": "LayoutModel",
            "_view_count": null,
            "_view_module": "@jupyter-widgets/base",
            "_view_module_version": "1.2.0",
            "_view_name": "LayoutView",
            "align_content": null,
            "align_items": null,
            "align_self": null,
            "border": null,
            "bottom": null,
            "display": null,
            "flex": null,
            "flex_flow": null,
            "grid_area": null,
            "grid_auto_columns": null,
            "grid_auto_flow": null,
            "grid_auto_rows": null,
            "grid_column": null,
            "grid_gap": null,
            "grid_row": null,
            "grid_template_areas": null,
            "grid_template_columns": null,
            "grid_template_rows": null,
            "height": null,
            "justify_content": null,
            "justify_items": null,
            "left": null,
            "margin": null,
            "max_height": null,
            "max_width": null,
            "min_height": null,
            "min_width": null,
            "object_fit": null,
            "object_position": null,
            "order": null,
            "overflow": null,
            "overflow_x": null,
            "overflow_y": null,
            "padding": null,
            "right": null,
            "top": null,
            "visibility": null,
            "width": null
          }
        },
        "b4c6316e65b7404bbe3adfa834615609": {
          "model_module": "@jupyter-widgets/controls",
          "model_name": "DescriptionStyleModel",
          "model_module_version": "1.5.0",
          "state": {
            "_model_module": "@jupyter-widgets/controls",
            "_model_module_version": "1.5.0",
            "_model_name": "DescriptionStyleModel",
            "_view_count": null,
            "_view_module": "@jupyter-widgets/base",
            "_view_module_version": "1.2.0",
            "_view_name": "StyleView",
            "description_width": ""
          }
        },
        "e79c72f014224852ae63e39482554051": {
          "model_module": "@jupyter-widgets/controls",
          "model_name": "HBoxModel",
          "model_module_version": "1.5.0",
          "state": {
            "_dom_classes": [],
            "_model_module": "@jupyter-widgets/controls",
            "_model_module_version": "1.5.0",
            "_model_name": "HBoxModel",
            "_view_count": null,
            "_view_module": "@jupyter-widgets/controls",
            "_view_module_version": "1.5.0",
            "_view_name": "HBoxView",
            "box_style": "",
            "children": [
              "IPY_MODEL_b6799971f71549cc94a1c965b75dd1ed",
              "IPY_MODEL_c762ba1496f744c198d8ed857a8cabd9",
              "IPY_MODEL_8b4b70bbc1894188867147a7b0dd5fff"
            ],
            "layout": "IPY_MODEL_98f2271fc0294a5298720f3fd13240ee"
          }
        },
        "b6799971f71549cc94a1c965b75dd1ed": {
          "model_module": "@jupyter-widgets/controls",
          "model_name": "HTMLModel",
          "model_module_version": "1.5.0",
          "state": {
            "_dom_classes": [],
            "_model_module": "@jupyter-widgets/controls",
            "_model_module_version": "1.5.0",
            "_model_name": "HTMLModel",
            "_view_count": null,
            "_view_module": "@jupyter-widgets/controls",
            "_view_module_version": "1.5.0",
            "_view_name": "HTMLView",
            "description": "",
            "description_tooltip": null,
            "layout": "IPY_MODEL_d572065f952a408fba0bae2085d0f576",
            "placeholder": "​",
            "style": "IPY_MODEL_77c1cae086fa40dba4a7ba4421389c14",
            "value": "model.safetensors: 100%"
          }
        },
        "c762ba1496f744c198d8ed857a8cabd9": {
          "model_module": "@jupyter-widgets/controls",
          "model_name": "FloatProgressModel",
          "model_module_version": "1.5.0",
          "state": {
            "_dom_classes": [],
            "_model_module": "@jupyter-widgets/controls",
            "_model_module_version": "1.5.0",
            "_model_name": "FloatProgressModel",
            "_view_count": null,
            "_view_module": "@jupyter-widgets/controls",
            "_view_module_version": "1.5.0",
            "_view_name": "ProgressView",
            "bar_style": "success",
            "description": "",
            "description_tooltip": null,
            "layout": "IPY_MODEL_1b5f76861dc84f4da9c135677d319275",
            "max": 267832558,
            "min": 0,
            "orientation": "horizontal",
            "style": "IPY_MODEL_c509a14d215c4b869d3deef3a0cfd9d7",
            "value": 267832558
          }
        },
        "8b4b70bbc1894188867147a7b0dd5fff": {
          "model_module": "@jupyter-widgets/controls",
          "model_name": "HTMLModel",
          "model_module_version": "1.5.0",
          "state": {
            "_dom_classes": [],
            "_model_module": "@jupyter-widgets/controls",
            "_model_module_version": "1.5.0",
            "_model_name": "HTMLModel",
            "_view_count": null,
            "_view_module": "@jupyter-widgets/controls",
            "_view_module_version": "1.5.0",
            "_view_name": "HTMLView",
            "description": "",
            "description_tooltip": null,
            "layout": "IPY_MODEL_fe7df398a2434af18349a19c99f2b772",
            "placeholder": "​",
            "style": "IPY_MODEL_a2cd386fe45e45b094eced9fd194602e",
            "value": " 268M/268M [00:45&lt;00:00, 7.57MB/s]"
          }
        },
        "98f2271fc0294a5298720f3fd13240ee": {
          "model_module": "@jupyter-widgets/base",
          "model_name": "LayoutModel",
          "model_module_version": "1.2.0",
          "state": {
            "_model_module": "@jupyter-widgets/base",
            "_model_module_version": "1.2.0",
            "_model_name": "LayoutModel",
            "_view_count": null,
            "_view_module": "@jupyter-widgets/base",
            "_view_module_version": "1.2.0",
            "_view_name": "LayoutView",
            "align_content": null,
            "align_items": null,
            "align_self": null,
            "border": null,
            "bottom": null,
            "display": null,
            "flex": null,
            "flex_flow": null,
            "grid_area": null,
            "grid_auto_columns": null,
            "grid_auto_flow": null,
            "grid_auto_rows": null,
            "grid_column": null,
            "grid_gap": null,
            "grid_row": null,
            "grid_template_areas": null,
            "grid_template_columns": null,
            "grid_template_rows": null,
            "height": null,
            "justify_content": null,
            "justify_items": null,
            "left": null,
            "margin": null,
            "max_height": null,
            "max_width": null,
            "min_height": null,
            "min_width": null,
            "object_fit": null,
            "object_position": null,
            "order": null,
            "overflow": null,
            "overflow_x": null,
            "overflow_y": null,
            "padding": null,
            "right": null,
            "top": null,
            "visibility": null,
            "width": null
          }
        },
        "d572065f952a408fba0bae2085d0f576": {
          "model_module": "@jupyter-widgets/base",
          "model_name": "LayoutModel",
          "model_module_version": "1.2.0",
          "state": {
            "_model_module": "@jupyter-widgets/base",
            "_model_module_version": "1.2.0",
            "_model_name": "LayoutModel",
            "_view_count": null,
            "_view_module": "@jupyter-widgets/base",
            "_view_module_version": "1.2.0",
            "_view_name": "LayoutView",
            "align_content": null,
            "align_items": null,
            "align_self": null,
            "border": null,
            "bottom": null,
            "display": null,
            "flex": null,
            "flex_flow": null,
            "grid_area": null,
            "grid_auto_columns": null,
            "grid_auto_flow": null,
            "grid_auto_rows": null,
            "grid_column": null,
            "grid_gap": null,
            "grid_row": null,
            "grid_template_areas": null,
            "grid_template_columns": null,
            "grid_template_rows": null,
            "height": null,
            "justify_content": null,
            "justify_items": null,
            "left": null,
            "margin": null,
            "max_height": null,
            "max_width": null,
            "min_height": null,
            "min_width": null,
            "object_fit": null,
            "object_position": null,
            "order": null,
            "overflow": null,
            "overflow_x": null,
            "overflow_y": null,
            "padding": null,
            "right": null,
            "top": null,
            "visibility": null,
            "width": null
          }
        },
        "77c1cae086fa40dba4a7ba4421389c14": {
          "model_module": "@jupyter-widgets/controls",
          "model_name": "DescriptionStyleModel",
          "model_module_version": "1.5.0",
          "state": {
            "_model_module": "@jupyter-widgets/controls",
            "_model_module_version": "1.5.0",
            "_model_name": "DescriptionStyleModel",
            "_view_count": null,
            "_view_module": "@jupyter-widgets/base",
            "_view_module_version": "1.2.0",
            "_view_name": "StyleView",
            "description_width": ""
          }
        },
        "1b5f76861dc84f4da9c135677d319275": {
          "model_module": "@jupyter-widgets/base",
          "model_name": "LayoutModel",
          "model_module_version": "1.2.0",
          "state": {
            "_model_module": "@jupyter-widgets/base",
            "_model_module_version": "1.2.0",
            "_model_name": "LayoutModel",
            "_view_count": null,
            "_view_module": "@jupyter-widgets/base",
            "_view_module_version": "1.2.0",
            "_view_name": "LayoutView",
            "align_content": null,
            "align_items": null,
            "align_self": null,
            "border": null,
            "bottom": null,
            "display": null,
            "flex": null,
            "flex_flow": null,
            "grid_area": null,
            "grid_auto_columns": null,
            "grid_auto_flow": null,
            "grid_auto_rows": null,
            "grid_column": null,
            "grid_gap": null,
            "grid_row": null,
            "grid_template_areas": null,
            "grid_template_columns": null,
            "grid_template_rows": null,
            "height": null,
            "justify_content": null,
            "justify_items": null,
            "left": null,
            "margin": null,
            "max_height": null,
            "max_width": null,
            "min_height": null,
            "min_width": null,
            "object_fit": null,
            "object_position": null,
            "order": null,
            "overflow": null,
            "overflow_x": null,
            "overflow_y": null,
            "padding": null,
            "right": null,
            "top": null,
            "visibility": null,
            "width": null
          }
        },
        "c509a14d215c4b869d3deef3a0cfd9d7": {
          "model_module": "@jupyter-widgets/controls",
          "model_name": "ProgressStyleModel",
          "model_module_version": "1.5.0",
          "state": {
            "_model_module": "@jupyter-widgets/controls",
            "_model_module_version": "1.5.0",
            "_model_name": "ProgressStyleModel",
            "_view_count": null,
            "_view_module": "@jupyter-widgets/base",
            "_view_module_version": "1.2.0",
            "_view_name": "StyleView",
            "bar_color": null,
            "description_width": ""
          }
        },
        "fe7df398a2434af18349a19c99f2b772": {
          "model_module": "@jupyter-widgets/base",
          "model_name": "LayoutModel",
          "model_module_version": "1.2.0",
          "state": {
            "_model_module": "@jupyter-widgets/base",
            "_model_module_version": "1.2.0",
            "_model_name": "LayoutModel",
            "_view_count": null,
            "_view_module": "@jupyter-widgets/base",
            "_view_module_version": "1.2.0",
            "_view_name": "LayoutView",
            "align_content": null,
            "align_items": null,
            "align_self": null,
            "border": null,
            "bottom": null,
            "display": null,
            "flex": null,
            "flex_flow": null,
            "grid_area": null,
            "grid_auto_columns": null,
            "grid_auto_flow": null,
            "grid_auto_rows": null,
            "grid_column": null,
            "grid_gap": null,
            "grid_row": null,
            "grid_template_areas": null,
            "grid_template_columns": null,
            "grid_template_rows": null,
            "height": null,
            "justify_content": null,
            "justify_items": null,
            "left": null,
            "margin": null,
            "max_height": null,
            "max_width": null,
            "min_height": null,
            "min_width": null,
            "object_fit": null,
            "object_position": null,
            "order": null,
            "overflow": null,
            "overflow_x": null,
            "overflow_y": null,
            "padding": null,
            "right": null,
            "top": null,
            "visibility": null,
            "width": null
          }
        },
        "a2cd386fe45e45b094eced9fd194602e": {
          "model_module": "@jupyter-widgets/controls",
          "model_name": "DescriptionStyleModel",
          "model_module_version": "1.5.0",
          "state": {
            "_model_module": "@jupyter-widgets/controls",
            "_model_module_version": "1.5.0",
            "_model_name": "DescriptionStyleModel",
            "_view_count": null,
            "_view_module": "@jupyter-widgets/base",
            "_view_module_version": "1.2.0",
            "_view_name": "StyleView",
            "description_width": ""
          }
        },
        "e1fc9a056d2e49c2979b53270c1dd60d": {
          "model_module": "@jupyter-widgets/controls",
          "model_name": "HBoxModel",
          "model_module_version": "1.5.0",
          "state": {
            "_dom_classes": [],
            "_model_module": "@jupyter-widgets/controls",
            "_model_module_version": "1.5.0",
            "_model_name": "HBoxModel",
            "_view_count": null,
            "_view_module": "@jupyter-widgets/controls",
            "_view_module_version": "1.5.0",
            "_view_name": "HBoxView",
            "box_style": "",
            "children": [
              "IPY_MODEL_52202344583a4e8ab4ef7ff6874af901",
              "IPY_MODEL_88efb19ce1c74abc98244082c831cd2e",
              "IPY_MODEL_2d3e7e1259ca4e12b68ab58803ffd06f"
            ],
            "layout": "IPY_MODEL_b6f0ec951736473d9c618ef886721f30"
          }
        },
        "52202344583a4e8ab4ef7ff6874af901": {
          "model_module": "@jupyter-widgets/controls",
          "model_name": "HTMLModel",
          "model_module_version": "1.5.0",
          "state": {
            "_dom_classes": [],
            "_model_module": "@jupyter-widgets/controls",
            "_model_module_version": "1.5.0",
            "_model_name": "HTMLModel",
            "_view_count": null,
            "_view_module": "@jupyter-widgets/controls",
            "_view_module_version": "1.5.0",
            "_view_name": "HTMLView",
            "description": "",
            "description_tooltip": null,
            "layout": "IPY_MODEL_ca132b364f974f3893dede1fa721803d",
            "placeholder": "​",
            "style": "IPY_MODEL_6fec36b70ebb4ec08d049f9116c47a83",
            "value": "tokenizer_config.json: 100%"
          }
        },
        "88efb19ce1c74abc98244082c831cd2e": {
          "model_module": "@jupyter-widgets/controls",
          "model_name": "FloatProgressModel",
          "model_module_version": "1.5.0",
          "state": {
            "_dom_classes": [],
            "_model_module": "@jupyter-widgets/controls",
            "_model_module_version": "1.5.0",
            "_model_name": "FloatProgressModel",
            "_view_count": null,
            "_view_module": "@jupyter-widgets/controls",
            "_view_module_version": "1.5.0",
            "_view_name": "ProgressView",
            "bar_style": "success",
            "description": "",
            "description_tooltip": null,
            "layout": "IPY_MODEL_2f934208d8f146b4873ce1e41cce08e7",
            "max": 48,
            "min": 0,
            "orientation": "horizontal",
            "style": "IPY_MODEL_799837690d214ba7bc3a2826e52fd2ac",
            "value": 48
          }
        },
        "2d3e7e1259ca4e12b68ab58803ffd06f": {
          "model_module": "@jupyter-widgets/controls",
          "model_name": "HTMLModel",
          "model_module_version": "1.5.0",
          "state": {
            "_dom_classes": [],
            "_model_module": "@jupyter-widgets/controls",
            "_model_module_version": "1.5.0",
            "_model_name": "HTMLModel",
            "_view_count": null,
            "_view_module": "@jupyter-widgets/controls",
            "_view_module_version": "1.5.0",
            "_view_name": "HTMLView",
            "description": "",
            "description_tooltip": null,
            "layout": "IPY_MODEL_bdfd4ebe58fb405cb06b1d496746131d",
            "placeholder": "​",
            "style": "IPY_MODEL_622b3a85e1014ae9bced65750a6ca072",
            "value": " 48.0/48.0 [00:00&lt;00:00, 2.94kB/s]"
          }
        },
        "b6f0ec951736473d9c618ef886721f30": {
          "model_module": "@jupyter-widgets/base",
          "model_name": "LayoutModel",
          "model_module_version": "1.2.0",
          "state": {
            "_model_module": "@jupyter-widgets/base",
            "_model_module_version": "1.2.0",
            "_model_name": "LayoutModel",
            "_view_count": null,
            "_view_module": "@jupyter-widgets/base",
            "_view_module_version": "1.2.0",
            "_view_name": "LayoutView",
            "align_content": null,
            "align_items": null,
            "align_self": null,
            "border": null,
            "bottom": null,
            "display": null,
            "flex": null,
            "flex_flow": null,
            "grid_area": null,
            "grid_auto_columns": null,
            "grid_auto_flow": null,
            "grid_auto_rows": null,
            "grid_column": null,
            "grid_gap": null,
            "grid_row": null,
            "grid_template_areas": null,
            "grid_template_columns": null,
            "grid_template_rows": null,
            "height": null,
            "justify_content": null,
            "justify_items": null,
            "left": null,
            "margin": null,
            "max_height": null,
            "max_width": null,
            "min_height": null,
            "min_width": null,
            "object_fit": null,
            "object_position": null,
            "order": null,
            "overflow": null,
            "overflow_x": null,
            "overflow_y": null,
            "padding": null,
            "right": null,
            "top": null,
            "visibility": null,
            "width": null
          }
        },
        "ca132b364f974f3893dede1fa721803d": {
          "model_module": "@jupyter-widgets/base",
          "model_name": "LayoutModel",
          "model_module_version": "1.2.0",
          "state": {
            "_model_module": "@jupyter-widgets/base",
            "_model_module_version": "1.2.0",
            "_model_name": "LayoutModel",
            "_view_count": null,
            "_view_module": "@jupyter-widgets/base",
            "_view_module_version": "1.2.0",
            "_view_name": "LayoutView",
            "align_content": null,
            "align_items": null,
            "align_self": null,
            "border": null,
            "bottom": null,
            "display": null,
            "flex": null,
            "flex_flow": null,
            "grid_area": null,
            "grid_auto_columns": null,
            "grid_auto_flow": null,
            "grid_auto_rows": null,
            "grid_column": null,
            "grid_gap": null,
            "grid_row": null,
            "grid_template_areas": null,
            "grid_template_columns": null,
            "grid_template_rows": null,
            "height": null,
            "justify_content": null,
            "justify_items": null,
            "left": null,
            "margin": null,
            "max_height": null,
            "max_width": null,
            "min_height": null,
            "min_width": null,
            "object_fit": null,
            "object_position": null,
            "order": null,
            "overflow": null,
            "overflow_x": null,
            "overflow_y": null,
            "padding": null,
            "right": null,
            "top": null,
            "visibility": null,
            "width": null
          }
        },
        "6fec36b70ebb4ec08d049f9116c47a83": {
          "model_module": "@jupyter-widgets/controls",
          "model_name": "DescriptionStyleModel",
          "model_module_version": "1.5.0",
          "state": {
            "_model_module": "@jupyter-widgets/controls",
            "_model_module_version": "1.5.0",
            "_model_name": "DescriptionStyleModel",
            "_view_count": null,
            "_view_module": "@jupyter-widgets/base",
            "_view_module_version": "1.2.0",
            "_view_name": "StyleView",
            "description_width": ""
          }
        },
        "2f934208d8f146b4873ce1e41cce08e7": {
          "model_module": "@jupyter-widgets/base",
          "model_name": "LayoutModel",
          "model_module_version": "1.2.0",
          "state": {
            "_model_module": "@jupyter-widgets/base",
            "_model_module_version": "1.2.0",
            "_model_name": "LayoutModel",
            "_view_count": null,
            "_view_module": "@jupyter-widgets/base",
            "_view_module_version": "1.2.0",
            "_view_name": "LayoutView",
            "align_content": null,
            "align_items": null,
            "align_self": null,
            "border": null,
            "bottom": null,
            "display": null,
            "flex": null,
            "flex_flow": null,
            "grid_area": null,
            "grid_auto_columns": null,
            "grid_auto_flow": null,
            "grid_auto_rows": null,
            "grid_column": null,
            "grid_gap": null,
            "grid_row": null,
            "grid_template_areas": null,
            "grid_template_columns": null,
            "grid_template_rows": null,
            "height": null,
            "justify_content": null,
            "justify_items": null,
            "left": null,
            "margin": null,
            "max_height": null,
            "max_width": null,
            "min_height": null,
            "min_width": null,
            "object_fit": null,
            "object_position": null,
            "order": null,
            "overflow": null,
            "overflow_x": null,
            "overflow_y": null,
            "padding": null,
            "right": null,
            "top": null,
            "visibility": null,
            "width": null
          }
        },
        "799837690d214ba7bc3a2826e52fd2ac": {
          "model_module": "@jupyter-widgets/controls",
          "model_name": "ProgressStyleModel",
          "model_module_version": "1.5.0",
          "state": {
            "_model_module": "@jupyter-widgets/controls",
            "_model_module_version": "1.5.0",
            "_model_name": "ProgressStyleModel",
            "_view_count": null,
            "_view_module": "@jupyter-widgets/base",
            "_view_module_version": "1.2.0",
            "_view_name": "StyleView",
            "bar_color": null,
            "description_width": ""
          }
        },
        "bdfd4ebe58fb405cb06b1d496746131d": {
          "model_module": "@jupyter-widgets/base",
          "model_name": "LayoutModel",
          "model_module_version": "1.2.0",
          "state": {
            "_model_module": "@jupyter-widgets/base",
            "_model_module_version": "1.2.0",
            "_model_name": "LayoutModel",
            "_view_count": null,
            "_view_module": "@jupyter-widgets/base",
            "_view_module_version": "1.2.0",
            "_view_name": "LayoutView",
            "align_content": null,
            "align_items": null,
            "align_self": null,
            "border": null,
            "bottom": null,
            "display": null,
            "flex": null,
            "flex_flow": null,
            "grid_area": null,
            "grid_auto_columns": null,
            "grid_auto_flow": null,
            "grid_auto_rows": null,
            "grid_column": null,
            "grid_gap": null,
            "grid_row": null,
            "grid_template_areas": null,
            "grid_template_columns": null,
            "grid_template_rows": null,
            "height": null,
            "justify_content": null,
            "justify_items": null,
            "left": null,
            "margin": null,
            "max_height": null,
            "max_width": null,
            "min_height": null,
            "min_width": null,
            "object_fit": null,
            "object_position": null,
            "order": null,
            "overflow": null,
            "overflow_x": null,
            "overflow_y": null,
            "padding": null,
            "right": null,
            "top": null,
            "visibility": null,
            "width": null
          }
        },
        "622b3a85e1014ae9bced65750a6ca072": {
          "model_module": "@jupyter-widgets/controls",
          "model_name": "DescriptionStyleModel",
          "model_module_version": "1.5.0",
          "state": {
            "_model_module": "@jupyter-widgets/controls",
            "_model_module_version": "1.5.0",
            "_model_name": "DescriptionStyleModel",
            "_view_count": null,
            "_view_module": "@jupyter-widgets/base",
            "_view_module_version": "1.2.0",
            "_view_name": "StyleView",
            "description_width": ""
          }
        },
        "902cb20d2c0140ad9f79c02aa3562289": {
          "model_module": "@jupyter-widgets/controls",
          "model_name": "HBoxModel",
          "model_module_version": "1.5.0",
          "state": {
            "_dom_classes": [],
            "_model_module": "@jupyter-widgets/controls",
            "_model_module_version": "1.5.0",
            "_model_name": "HBoxModel",
            "_view_count": null,
            "_view_module": "@jupyter-widgets/controls",
            "_view_module_version": "1.5.0",
            "_view_name": "HBoxView",
            "box_style": "",
            "children": [
              "IPY_MODEL_91d9d71da72d4cccbb5171c9955d2fbb",
              "IPY_MODEL_7dfcbe90701c40bd9e1972d2347e47b6",
              "IPY_MODEL_c63dc74482ca4a618834d78d8747db01"
            ],
            "layout": "IPY_MODEL_127802ddc1c14de78a026d53a6262207"
          }
        },
        "91d9d71da72d4cccbb5171c9955d2fbb": {
          "model_module": "@jupyter-widgets/controls",
          "model_name": "HTMLModel",
          "model_module_version": "1.5.0",
          "state": {
            "_dom_classes": [],
            "_model_module": "@jupyter-widgets/controls",
            "_model_module_version": "1.5.0",
            "_model_name": "HTMLModel",
            "_view_count": null,
            "_view_module": "@jupyter-widgets/controls",
            "_view_module_version": "1.5.0",
            "_view_name": "HTMLView",
            "description": "",
            "description_tooltip": null,
            "layout": "IPY_MODEL_670dd12110cf4115ad5f62615e9ddcf2",
            "placeholder": "​",
            "style": "IPY_MODEL_aa21a1c305fb46d9b5eb0c437f63feac",
            "value": "vocab.txt: "
          }
        },
        "7dfcbe90701c40bd9e1972d2347e47b6": {
          "model_module": "@jupyter-widgets/controls",
          "model_name": "FloatProgressModel",
          "model_module_version": "1.5.0",
          "state": {
            "_dom_classes": [],
            "_model_module": "@jupyter-widgets/controls",
            "_model_module_version": "1.5.0",
            "_model_name": "FloatProgressModel",
            "_view_count": null,
            "_view_module": "@jupyter-widgets/controls",
            "_view_module_version": "1.5.0",
            "_view_name": "ProgressView",
            "bar_style": "success",
            "description": "",
            "description_tooltip": null,
            "layout": "IPY_MODEL_a8ac3924ef544688801caa3b5f5b7206",
            "max": 1,
            "min": 0,
            "orientation": "horizontal",
            "style": "IPY_MODEL_ad7308f49f204dabab79cebf4ec1e259",
            "value": 1
          }
        },
        "c63dc74482ca4a618834d78d8747db01": {
          "model_module": "@jupyter-widgets/controls",
          "model_name": "HTMLModel",
          "model_module_version": "1.5.0",
          "state": {
            "_dom_classes": [],
            "_model_module": "@jupyter-widgets/controls",
            "_model_module_version": "1.5.0",
            "_model_name": "HTMLModel",
            "_view_count": null,
            "_view_module": "@jupyter-widgets/controls",
            "_view_module_version": "1.5.0",
            "_view_name": "HTMLView",
            "description": "",
            "description_tooltip": null,
            "layout": "IPY_MODEL_cb9eee1eff394e71a4497a93fa20e011",
            "placeholder": "​",
            "style": "IPY_MODEL_9d7ee36815ab4a43bebce59c4400c226",
            "value": " 232k/? [00:00&lt;00:00, 6.45MB/s]"
          }
        },
        "127802ddc1c14de78a026d53a6262207": {
          "model_module": "@jupyter-widgets/base",
          "model_name": "LayoutModel",
          "model_module_version": "1.2.0",
          "state": {
            "_model_module": "@jupyter-widgets/base",
            "_model_module_version": "1.2.0",
            "_model_name": "LayoutModel",
            "_view_count": null,
            "_view_module": "@jupyter-widgets/base",
            "_view_module_version": "1.2.0",
            "_view_name": "LayoutView",
            "align_content": null,
            "align_items": null,
            "align_self": null,
            "border": null,
            "bottom": null,
            "display": null,
            "flex": null,
            "flex_flow": null,
            "grid_area": null,
            "grid_auto_columns": null,
            "grid_auto_flow": null,
            "grid_auto_rows": null,
            "grid_column": null,
            "grid_gap": null,
            "grid_row": null,
            "grid_template_areas": null,
            "grid_template_columns": null,
            "grid_template_rows": null,
            "height": null,
            "justify_content": null,
            "justify_items": null,
            "left": null,
            "margin": null,
            "max_height": null,
            "max_width": null,
            "min_height": null,
            "min_width": null,
            "object_fit": null,
            "object_position": null,
            "order": null,
            "overflow": null,
            "overflow_x": null,
            "overflow_y": null,
            "padding": null,
            "right": null,
            "top": null,
            "visibility": null,
            "width": null
          }
        },
        "670dd12110cf4115ad5f62615e9ddcf2": {
          "model_module": "@jupyter-widgets/base",
          "model_name": "LayoutModel",
          "model_module_version": "1.2.0",
          "state": {
            "_model_module": "@jupyter-widgets/base",
            "_model_module_version": "1.2.0",
            "_model_name": "LayoutModel",
            "_view_count": null,
            "_view_module": "@jupyter-widgets/base",
            "_view_module_version": "1.2.0",
            "_view_name": "LayoutView",
            "align_content": null,
            "align_items": null,
            "align_self": null,
            "border": null,
            "bottom": null,
            "display": null,
            "flex": null,
            "flex_flow": null,
            "grid_area": null,
            "grid_auto_columns": null,
            "grid_auto_flow": null,
            "grid_auto_rows": null,
            "grid_column": null,
            "grid_gap": null,
            "grid_row": null,
            "grid_template_areas": null,
            "grid_template_columns": null,
            "grid_template_rows": null,
            "height": null,
            "justify_content": null,
            "justify_items": null,
            "left": null,
            "margin": null,
            "max_height": null,
            "max_width": null,
            "min_height": null,
            "min_width": null,
            "object_fit": null,
            "object_position": null,
            "order": null,
            "overflow": null,
            "overflow_x": null,
            "overflow_y": null,
            "padding": null,
            "right": null,
            "top": null,
            "visibility": null,
            "width": null
          }
        },
        "aa21a1c305fb46d9b5eb0c437f63feac": {
          "model_module": "@jupyter-widgets/controls",
          "model_name": "DescriptionStyleModel",
          "model_module_version": "1.5.0",
          "state": {
            "_model_module": "@jupyter-widgets/controls",
            "_model_module_version": "1.5.0",
            "_model_name": "DescriptionStyleModel",
            "_view_count": null,
            "_view_module": "@jupyter-widgets/base",
            "_view_module_version": "1.2.0",
            "_view_name": "StyleView",
            "description_width": ""
          }
        },
        "a8ac3924ef544688801caa3b5f5b7206": {
          "model_module": "@jupyter-widgets/base",
          "model_name": "LayoutModel",
          "model_module_version": "1.2.0",
          "state": {
            "_model_module": "@jupyter-widgets/base",
            "_model_module_version": "1.2.0",
            "_model_name": "LayoutModel",
            "_view_count": null,
            "_view_module": "@jupyter-widgets/base",
            "_view_module_version": "1.2.0",
            "_view_name": "LayoutView",
            "align_content": null,
            "align_items": null,
            "align_self": null,
            "border": null,
            "bottom": null,
            "display": null,
            "flex": null,
            "flex_flow": null,
            "grid_area": null,
            "grid_auto_columns": null,
            "grid_auto_flow": null,
            "grid_auto_rows": null,
            "grid_column": null,
            "grid_gap": null,
            "grid_row": null,
            "grid_template_areas": null,
            "grid_template_columns": null,
            "grid_template_rows": null,
            "height": null,
            "justify_content": null,
            "justify_items": null,
            "left": null,
            "margin": null,
            "max_height": null,
            "max_width": null,
            "min_height": null,
            "min_width": null,
            "object_fit": null,
            "object_position": null,
            "order": null,
            "overflow": null,
            "overflow_x": null,
            "overflow_y": null,
            "padding": null,
            "right": null,
            "top": null,
            "visibility": null,
            "width": "20px"
          }
        },
        "ad7308f49f204dabab79cebf4ec1e259": {
          "model_module": "@jupyter-widgets/controls",
          "model_name": "ProgressStyleModel",
          "model_module_version": "1.5.0",
          "state": {
            "_model_module": "@jupyter-widgets/controls",
            "_model_module_version": "1.5.0",
            "_model_name": "ProgressStyleModel",
            "_view_count": null,
            "_view_module": "@jupyter-widgets/base",
            "_view_module_version": "1.2.0",
            "_view_name": "StyleView",
            "bar_color": null,
            "description_width": ""
          }
        },
        "cb9eee1eff394e71a4497a93fa20e011": {
          "model_module": "@jupyter-widgets/base",
          "model_name": "LayoutModel",
          "model_module_version": "1.2.0",
          "state": {
            "_model_module": "@jupyter-widgets/base",
            "_model_module_version": "1.2.0",
            "_model_name": "LayoutModel",
            "_view_count": null,
            "_view_module": "@jupyter-widgets/base",
            "_view_module_version": "1.2.0",
            "_view_name": "LayoutView",
            "align_content": null,
            "align_items": null,
            "align_self": null,
            "border": null,
            "bottom": null,
            "display": null,
            "flex": null,
            "flex_flow": null,
            "grid_area": null,
            "grid_auto_columns": null,
            "grid_auto_flow": null,
            "grid_auto_rows": null,
            "grid_column": null,
            "grid_gap": null,
            "grid_row": null,
            "grid_template_areas": null,
            "grid_template_columns": null,
            "grid_template_rows": null,
            "height": null,
            "justify_content": null,
            "justify_items": null,
            "left": null,
            "margin": null,
            "max_height": null,
            "max_width": null,
            "min_height": null,
            "min_width": null,
            "object_fit": null,
            "object_position": null,
            "order": null,
            "overflow": null,
            "overflow_x": null,
            "overflow_y": null,
            "padding": null,
            "right": null,
            "top": null,
            "visibility": null,
            "width": null
          }
        },
        "9d7ee36815ab4a43bebce59c4400c226": {
          "model_module": "@jupyter-widgets/controls",
          "model_name": "DescriptionStyleModel",
          "model_module_version": "1.5.0",
          "state": {
            "_model_module": "@jupyter-widgets/controls",
            "_model_module_version": "1.5.0",
            "_model_name": "DescriptionStyleModel",
            "_view_count": null,
            "_view_module": "@jupyter-widgets/base",
            "_view_module_version": "1.2.0",
            "_view_name": "StyleView",
            "description_width": ""
          }
        }
      }
    }
  },
  "nbformat": 4,
  "nbformat_minor": 0
}