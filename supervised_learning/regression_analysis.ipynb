{
 "cells": [
  {
   "cell_type": "markdown",
   "id": "3dfba325",
   "metadata": {},
   "source": [
    "# Simple Regression - Predicting Values from Data\n",
    "\n",
    "This notebook will teach you how to use machine learning to predict one value from other values in your data.\n",
    "\n",
    "**What we'll learn:**\n",
    "1. Choose what we want to predict (target) and what to use for prediction (features)\n",
    "2. Split our data into training and testing sets\n",
    "3. Try 3 different regression models\n",
    "4. Compare which model works best\n",
    "5. Make predictions on new data\n",
    "\n",
    "**Example:**\n",
    "We might predict salary based on experience, job type, and company size.\n",
    "\n",
    "**Instructions:**\n",
    "- Make sure you have clean data from the previous notebook\n",
    "- Run each cell one by one\n",
    "- Choose your own features to experiment with!"
   ]
  },
  {
   "cell_type": "code",
   "execution_count": 1,
   "id": "dfcc4a90",
   "metadata": {},
   "outputs": [
    {
     "name": "stdout",
     "output_type": "stream",
     "text": [
      "Libraries imported successfully!\n",
      "Ready to build regression models!\n"
     ]
    }
   ],
   "source": [
    "# Import libraries for machine learning\n",
    "import pandas as pd\n",
    "import numpy as np\n",
    "import matplotlib.pyplot as plt\n",
    "from sklearn.model_selection import train_test_split\n",
    "from sklearn.linear_model import LinearRegression\n",
    "from sklearn.ensemble import RandomForestRegressor\n",
    "from sklearn.tree import DecisionTreeRegressor\n",
    "from sklearn.metrics import mean_squared_error, r2_score\n",
    "\n",
    "print(\"Libraries imported successfully!\")\n",
    "print(\"Ready to build regression models!\")"
   ]
  },
  {
   "cell_type": "markdown",
   "id": "5a660091",
   "metadata": {},
   "source": [
    "## 1. Load Your Data\n",
    "\n",
    "First, let's load our clean data from the previous notebook."
   ]
  },
  {
   "cell_type": "code",
   "execution_count": 28,
   "id": "21979ee9",
   "metadata": {},
   "outputs": [
    {
     "name": "stdout",
     "output_type": "stream",
     "text": [
      "Data loaded successfully!\n",
      "Shape: 64620 rows × 11 columns\n",
      "\n",
      "First few rows:\n"
     ]
    },
    {
     "data": {
      "text/html": [
       "<div>\n",
       "<style scoped>\n",
       "    .dataframe tbody tr th:only-of-type {\n",
       "        vertical-align: middle;\n",
       "    }\n",
       "\n",
       "    .dataframe tbody tr th {\n",
       "        vertical-align: top;\n",
       "    }\n",
       "\n",
       "    .dataframe thead th {\n",
       "        text-align: right;\n",
       "    }\n",
       "</style>\n",
       "<table border=\"1\" class=\"dataframe\">\n",
       "  <thead>\n",
       "    <tr style=\"text-align: right;\">\n",
       "      <th></th>\n",
       "      <th>work_year</th>\n",
       "      <th>experience_level</th>\n",
       "      <th>employment_type</th>\n",
       "      <th>job_title</th>\n",
       "      <th>salary</th>\n",
       "      <th>salary_currency</th>\n",
       "      <th>salary_in_usd</th>\n",
       "      <th>employee_residence</th>\n",
       "      <th>remote_ratio</th>\n",
       "      <th>company_location</th>\n",
       "      <th>company_size</th>\n",
       "    </tr>\n",
       "  </thead>\n",
       "  <tbody>\n",
       "    <tr>\n",
       "      <th>0</th>\n",
       "      <td>2025</td>\n",
       "      <td>SE</td>\n",
       "      <td>FT</td>\n",
       "      <td>Solutions Engineer</td>\n",
       "      <td>214000</td>\n",
       "      <td>USD</td>\n",
       "      <td>214000</td>\n",
       "      <td>US</td>\n",
       "      <td>100</td>\n",
       "      <td>US</td>\n",
       "      <td>M</td>\n",
       "    </tr>\n",
       "    <tr>\n",
       "      <th>1</th>\n",
       "      <td>2025</td>\n",
       "      <td>MI</td>\n",
       "      <td>FT</td>\n",
       "      <td>Data Engineer</td>\n",
       "      <td>158800</td>\n",
       "      <td>USD</td>\n",
       "      <td>158800</td>\n",
       "      <td>AU</td>\n",
       "      <td>0</td>\n",
       "      <td>AU</td>\n",
       "      <td>M</td>\n",
       "    </tr>\n",
       "    <tr>\n",
       "      <th>2</th>\n",
       "      <td>2025</td>\n",
       "      <td>MI</td>\n",
       "      <td>FT</td>\n",
       "      <td>Data Engineer</td>\n",
       "      <td>139200</td>\n",
       "      <td>USD</td>\n",
       "      <td>139200</td>\n",
       "      <td>AU</td>\n",
       "      <td>0</td>\n",
       "      <td>AU</td>\n",
       "      <td>M</td>\n",
       "    </tr>\n",
       "    <tr>\n",
       "      <th>3</th>\n",
       "      <td>2025</td>\n",
       "      <td>EN</td>\n",
       "      <td>FT</td>\n",
       "      <td>Data Engineer</td>\n",
       "      <td>90000</td>\n",
       "      <td>USD</td>\n",
       "      <td>90000</td>\n",
       "      <td>US</td>\n",
       "      <td>0</td>\n",
       "      <td>US</td>\n",
       "      <td>M</td>\n",
       "    </tr>\n",
       "    <tr>\n",
       "      <th>4</th>\n",
       "      <td>2025</td>\n",
       "      <td>EN</td>\n",
       "      <td>FT</td>\n",
       "      <td>Data Engineer</td>\n",
       "      <td>80000</td>\n",
       "      <td>USD</td>\n",
       "      <td>80000</td>\n",
       "      <td>US</td>\n",
       "      <td>0</td>\n",
       "      <td>US</td>\n",
       "      <td>M</td>\n",
       "    </tr>\n",
       "  </tbody>\n",
       "</table>\n",
       "</div>"
      ],
      "text/plain": [
       "   work_year experience_level employment_type           job_title  salary  \\\n",
       "0       2025               SE              FT  Solutions Engineer  214000   \n",
       "1       2025               MI              FT       Data Engineer  158800   \n",
       "2       2025               MI              FT       Data Engineer  139200   \n",
       "3       2025               EN              FT       Data Engineer   90000   \n",
       "4       2025               EN              FT       Data Engineer   80000   \n",
       "\n",
       "  salary_currency  salary_in_usd employee_residence  remote_ratio  \\\n",
       "0             USD         214000                 US           100   \n",
       "1             USD         158800                 AU             0   \n",
       "2             USD         139200                 AU             0   \n",
       "3             USD          90000                 US             0   \n",
       "4             USD          80000                 US             0   \n",
       "\n",
       "  company_location company_size  \n",
       "0               US            M  \n",
       "1               AU            M  \n",
       "2               AU            M  \n",
       "3               US            M  \n",
       "4               US            M  "
      ]
     },
     "execution_count": 28,
     "metadata": {},
     "output_type": "execute_result"
    }
   ],
   "source": [
    "# Load your clean data\n",
    "df = pd.read_csv('../datasets/cleaned_data.csv')\n",
    "\n",
    "print(f\"Data loaded successfully!\")\n",
    "print(f\"Shape: {df.shape[0]} rows × {df.shape[1]} columns\")\n",
    "\n",
    "# Look at the data\n",
    "print(\"\\nFirst few rows:\")\n",
    "df.head()"
   ]
  },
  {
   "cell_type": "markdown",
   "id": "de02898c",
   "metadata": {},
   "source": [
    "## 2. Choose What to Predict and What to Use for Prediction\n",
    "\n",
    "We need to choose:\n",
    "- **Target (Y)**: What we want to predict (must be a number)\n",
    "- **Features (X)**: What we'll use to make the prediction (can be numbers or categories)"
   ]
  },
  {
   "cell_type": "code",
   "execution_count": 29,
   "id": "fd9a756a",
   "metadata": {},
   "outputs": [
    {
     "name": "stdout",
     "output_type": "stream",
     "text": [
      "Available columns in our dataset:\n",
      "1. work_year - int64\n",
      "2. experience_level - object\n",
      "3. employment_type - object\n",
      "4. job_title - object\n",
      "5. salary - int64\n",
      "6. salary_currency - object\n",
      "7. salary_in_usd - int64\n",
      "8. employee_residence - object\n",
      "9. remote_ratio - int64\n",
      "10. company_location - object\n",
      "11. company_size - object\n",
      "\n",
      "Numerical columns (good for prediction targets):\n",
      "['work_year', 'salary', 'salary_in_usd', 'remote_ratio']\n",
      "\n",
      "All columns (can be used as features):\n",
      "['work_year', 'experience_level', 'employment_type', 'job_title', 'salary', 'salary_currency', 'salary_in_usd', 'employee_residence', 'remote_ratio', 'company_location', 'company_size']\n"
     ]
    }
   ],
   "source": [
    "# Look at our columns to decide what to predict\n",
    "print(\"Available columns in our dataset:\")\n",
    "for i, col in enumerate(df.columns, 1):\n",
    "    print(f\"{i}. {col} - {df[col].dtype}\")\n",
    "\n",
    "print(\"\\nNumerical columns (good for prediction targets):\")\n",
    "numerical_cols = df.select_dtypes(include=[np.number]).columns.tolist()\n",
    "print(numerical_cols)\n",
    "\n",
    "print(\"\\nAll columns (can be used as features):\")\n",
    "all_cols = df.columns.tolist()\n",
    "print(all_cols)"
   ]
  },
  {
   "cell_type": "code",
   "execution_count": 30,
   "id": "0eba7ee1",
   "metadata": {},
   "outputs": [
    {
     "name": "stdout",
     "output_type": "stream",
     "text": [
      "We want to predict: salary_in_usd\n",
      "Using these features: ['work_year', 'experience_level', 'employment_type', 'remote_ratio']\n",
      "✓ Target column 'salary_in_usd' found\n",
      "✓ All feature columns found\n"
     ]
    }
   ],
   "source": [
    "# CHOOSE YOUR TARGET AND FEATURES HERE\n",
    "# Change these to match your data and what you want to predict\n",
    "\n",
    "# What we want to predict (must be numerical)\n",
    "target_column = 'salary_in_usd'  # Change this to your target column\n",
    "\n",
    "# What we'll use to make predictions (choose 2-5 columns)\n",
    "feature_columns = ['work_year', 'experience_level', 'employment_type', 'remote_ratio']  # Change these\n",
    "\n",
    "print(f\"We want to predict: {target_column}\")\n",
    "print(f\"Using these features: {feature_columns}\")\n",
    "\n",
    "# Check if our choices are valid\n",
    "if target_column not in df.columns:\n",
    "    print(f\"ERROR: {target_column} not found in data\")\n",
    "else:\n",
    "    print(f\"✓ Target column '{target_column}' found\")\n",
    "    \n",
    "missing_features = [col for col in feature_columns if col not in df.columns]\n",
    "if missing_features:\n",
    "    print(f\"ERROR: These features not found: {missing_features}\")\n",
    "else:\n",
    "    print(\"✓ All feature columns found\")"
   ]
  },
  {
   "cell_type": "markdown",
   "id": "1ce36e34",
   "metadata": {},
   "source": [
    "## 3. Prepare the Data for Machine Learning\n",
    "\n",
    "We need to prepare our data so the computer can understand it."
   ]
  },
  {
   "cell_type": "code",
   "execution_count": 31,
   "id": "2d548af1",
   "metadata": {},
   "outputs": [
    {
     "name": "stdout",
     "output_type": "stream",
     "text": [
      "Data before preparation:\n",
      "Target shape: (64620,)\n",
      "Features shape: (64620, 4)\n",
      "Features data types:\n",
      "work_year            int64\n",
      "experience_level    object\n",
      "employment_type     object\n",
      "remote_ratio         int64\n",
      "dtype: object\n",
      "\n",
      "Data after preparation:\n",
      "Features shape: (64620, 8)\n",
      "New column names: ['work_year', 'remote_ratio', 'experience_level_EX', 'experience_level_MI', 'experience_level_SE', 'employment_type_FL', 'employment_type_FT', 'employment_type_PT']\n",
      "\n",
      "After removing missing values:\n",
      "Final dataset size: 64620 rows\n",
      "Features: 8 columns\n"
     ]
    }
   ],
   "source": [
    "# Create our target (Y) and features (X)\n",
    "y = df[target_column]  # What we want to predict\n",
    "X = df[feature_columns]  # What we'll use to predict\n",
    "\n",
    "print(\"Data before preparation:\")\n",
    "print(f\"Target shape: {y.shape}\")\n",
    "print(f\"Features shape: {X.shape}\")\n",
    "print(f\"Features data types:\\n{X.dtypes}\")\n",
    "\n",
    "# Convert text columns to numbers (one-hot encoding)\n",
    "X_prepared = pd.get_dummies(X, drop_first=True)\n",
    "\n",
    "print(f\"\\nData after preparation:\")\n",
    "print(f\"Features shape: {X_prepared.shape}\")\n",
    "print(f\"New column names: {list(X_prepared.columns)}\")\n",
    "\n",
    "# Remove any rows with missing values\n",
    "mask = ~(X_prepared.isnull().any(axis=1) | y.isnull())\n",
    "X_clean = X_prepared[mask]\n",
    "y_clean = y[mask]\n",
    "\n",
    "print(f\"\\nAfter removing missing values:\")\n",
    "print(f\"Final dataset size: {len(X_clean)} rows\")\n",
    "print(f\"Features: {X_clean.shape[1]} columns\")"
   ]
  },
  {
   "cell_type": "markdown",
   "id": "e264d29a",
   "metadata": {},
   "source": [
    "## 4. Split Data into Training and Testing Sets\n",
    "\n",
    "We'll use 80% of our data to train the model and 20% to test how well it works."
   ]
  },
  {
   "cell_type": "code",
   "execution_count": 32,
   "id": "f752cf04",
   "metadata": {},
   "outputs": [
    {
     "name": "stdout",
     "output_type": "stream",
     "text": [
      "Data split successfully!\n",
      "Training set: 51696 rows\n",
      "Testing set: 12924 rows\n",
      "Features: 8 columns\n",
      "\n",
      "Target variable summary:\n",
      "Training target range: 15000 to 800000\n",
      "Testing target range: 15000 to 800000\n"
     ]
    }
   ],
   "source": [
    "# Split the data into training and testing sets\n",
    "X_train, X_test, y_train, y_test = train_test_split(\n",
    "    X_clean, y_clean, \n",
    "    test_size=0.2,      # Use 20% for testing\n",
    "    random_state=42     # For reproducible results\n",
    ")\n",
    "\n",
    "print(\"Data split successfully!\")\n",
    "print(f\"Training set: {X_train.shape[0]} rows\")\n",
    "print(f\"Testing set: {X_test.shape[0]} rows\")\n",
    "print(f\"Features: {X_train.shape[1]} columns\")\n",
    "\n",
    "print(f\"\\nTarget variable summary:\")\n",
    "print(f\"Training target range: {y_train.min():.0f} to {y_train.max():.0f}\")\n",
    "print(f\"Testing target range: {y_test.min():.0f} to {y_test.max():.0f}\")"
   ]
  },
  {
   "cell_type": "markdown",
   "id": "1b5d9a49",
   "metadata": {},
   "source": [
    "## 5. Train Three Different Regression Models\n",
    "\n",
    "Let's try three different types of models and see which works best!"
   ]
  },
  {
   "cell_type": "code",
   "execution_count": 33,
   "id": "d0c3af20",
   "metadata": {},
   "outputs": [
    {
     "name": "stdout",
     "output_type": "stream",
     "text": [
      "Training Model 1: Linear Regression\n",
      "✓ Linear Regression (Ridge) trained!\n",
      "  Mean Squared Error: 5285286249.10\n",
      "  R² Score: 0.107 (higher is better, max = 1.0)\n"
     ]
    }
   ],
   "source": [
    "# Model 1: Linear Regression (draws a straight line through the data)\n",
    "print(\"Training Model 1: Linear Regression\")\n",
    "model1 = LinearRegression()\n",
    "model1.fit(X_train, y_train)\n",
    "\n",
    "# Make predictions\n",
    "y_pred1 = model1.predict(X_test)\n",
    "\n",
    "# Calculate performance\n",
    "mse1 = mean_squared_error(y_test, y_pred1)\n",
    "r2_1 = r2_score(y_test, y_pred1)\n",
    "\n",
    "print(f\"✓ Linear Regression (Ridge) trained!\")\n",
    "print(f\"  Mean Squared Error: {mse1:.2f}\")\n",
    "print(f\"  R² Score: {r2_1:.3f} (higher is better, max = 1.0)\")\n"
   ]
  },
  {
   "cell_type": "code",
   "execution_count": 34,
   "id": "f3c35dce",
   "metadata": {},
   "outputs": [
    {
     "name": "stdout",
     "output_type": "stream",
     "text": [
      "Training Model 2: Decision Tree\n",
      "✓ Decision Tree trained!\n",
      "  Mean Squared Error: 5258909964.69\n",
      "  R² Score: 0.111 (higher is better, max = 1.0)\n"
     ]
    }
   ],
   "source": [
    "# Model 2: Decision Tree (makes decisions like a flowchart)\n",
    "print(\"Training Model 2: Decision Tree\")\n",
    "model2 = DecisionTreeRegressor(random_state=42, max_depth=10)\n",
    "model2.fit(X_train, y_train)\n",
    "\n",
    "# Make predictions\n",
    "y_pred2 = model2.predict(X_test)\n",
    "\n",
    "# Calculate performance\n",
    "mse2 = mean_squared_error(y_test, y_pred2)\n",
    "r2_2 = r2_score(y_test, y_pred2)\n",
    "\n",
    "print(f\"✓ Decision Tree trained!\")\n",
    "print(f\"  Mean Squared Error: {mse2:.2f}\")\n",
    "print(f\"  R² Score: {r2_2:.3f} (higher is better, max = 1.0)\")"
   ]
  },
  {
   "cell_type": "code",
   "execution_count": 35,
   "id": "9f2c2bd0",
   "metadata": {},
   "outputs": [
    {
     "name": "stdout",
     "output_type": "stream",
     "text": [
      "Training Model 3: Random Forest\n",
      "✓ Random Forest trained!\n",
      "  Mean Squared Error: 5258561712.31\n",
      "  R² Score: 0.111 (higher is better, max = 1.0)\n"
     ]
    }
   ],
   "source": [
    "# Model 3: Random Forest (combines many decision trees)\n",
    "print(\"Training Model 3: Random Forest\")\n",
    "model3 = RandomForestRegressor(n_estimators=100, random_state=42, max_depth=10)\n",
    "model3.fit(X_train, y_train)\n",
    "\n",
    "# Make predictions\n",
    "y_pred3 = model3.predict(X_test)\n",
    "\n",
    "# Calculate performance\n",
    "mse3 = mean_squared_error(y_test, y_pred3)\n",
    "r2_3 = r2_score(y_test, y_pred3)\n",
    "\n",
    "print(f\"✓ Random Forest trained!\")\n",
    "print(f\"  Mean Squared Error: {mse3:.2f}\")\n",
    "print(f\"  R² Score: {r2_3:.3f} (higher is better, max = 1.0)\")"
   ]
  },
  {
   "cell_type": "markdown",
   "id": "6d89c83e",
   "metadata": {},
   "source": [
    "## 6. Compare the Models\n",
    "\n",
    "Let's see which model performed best on our test data!"
   ]
  },
  {
   "cell_type": "code",
   "execution_count": 24,
   "id": "d1691ee2",
   "metadata": {},
   "outputs": [
    {
     "name": "stdout",
     "output_type": "stream",
     "text": [
      "🏆 MODEL COMPARISON RESULTS\n",
      "==================================================\n",
      "            Model  Mean_Squared_Error  R2_Score\n",
      "Linear Regression             831.004    -0.000\n",
      "    Decision Tree             834.797    -0.005\n",
      "    Random Forest             831.922    -0.001\n",
      "\n",
      "🥇 WINNER: Linear Regression\n",
      "   R² Score: -0.000\n",
      "\n",
      "How to interpret R² Score:\n",
      "- 1.0 = Perfect predictions\n",
      "- 0.8+ = Very good\n",
      "- 0.6+ = Good\n",
      "- 0.4+ = Okay\n",
      "- Below 0.4 = Needs improvement\n"
     ]
    }
   ],
   "source": [
    "# Compare all models\n",
    "results = pd.DataFrame({\n",
    "    'Model': ['Linear Regression', 'Decision Tree', 'Random Forest'],\n",
    "    'Mean_Squared_Error': [mse1, mse2, mse3],\n",
    "    'R2_Score': [r2_1, r2_2, r2_3]\n",
    "})\n",
    "\n",
    "print(\"🏆 MODEL COMPARISON RESULTS\")\n",
    "print(\"=\" * 50)\n",
    "print(results.to_string(index=False, float_format='%.3f'))\n",
    "\n",
    "# Find the best model\n",
    "best_model_idx = results['R2_Score'].idxmax()\n",
    "best_model_name = results.loc[best_model_idx, 'Model']\n",
    "best_r2 = results.loc[best_model_idx, 'R2_Score']\n",
    "\n",
    "print(f\"\\n🥇 WINNER: {best_model_name}\")\n",
    "print(f\"   R² Score: {best_r2:.3f}\")\n",
    "\n",
    "print(f\"\\nHow to interpret R² Score:\")\n",
    "print(f\"- 1.0 = Perfect predictions\")\n",
    "print(f\"- 0.8+ = Very good\")\n",
    "print(f\"- 0.6+ = Good\") \n",
    "print(f\"- 0.4+ = Okay\")\n",
    "print(f\"- Below 0.4 = Needs improvement\")"
   ]
  },
  {
   "cell_type": "markdown",
   "id": "887a8069",
   "metadata": {},
   "source": [
    "## 7. Visualise the Results\n",
    "\n",
    "Let's create plots to see how well our models performed."
   ]
  },
  {
   "cell_type": "code",
   "execution_count": 25,
   "id": "25e13ff4",
   "metadata": {},
   "outputs": [
    {
     "data": {
      "image/png": "[encoded data removed]",
      "text/plain": [
       "<Figure size 1500x500 with 3 Axes>"
      ]
     },
     "metadata": {},
     "output_type": "display_data"
    },
    {
     "name": "stdout",
     "output_type": "stream",
     "text": [
      "How to read these plots:\n",
      "- Points close to the red line = good predictions\n",
      "- Points far from the red line = poor predictions\n",
      "- Tighter cluster around the line = better model\n"
     ]
    }
   ],
   "source": [
    "# Plot actual vs predicted values for each model\n",
    "fig, axes = plt.subplots(1, 3, figsize=(15, 5))\n",
    "\n",
    "models = [\n",
    "    ('Linear Regression', y_pred1),\n",
    "    ('Decision Tree', y_pred2), \n",
    "    ('Random Forest', y_pred3)\n",
    "]\n",
    "\n",
    "for i, (name, predictions) in enumerate(models):\n",
    "    axes[i].scatter(y_test, predictions, alpha=0.6)\n",
    "    axes[i].plot([y_test.min(), y_test.max()], [y_test.min(), y_test.max()], 'r--', lw=2)\n",
    "    axes[i].set_xlabel('Actual Values')\n",
    "    axes[i].set_ylabel('Predicted Values')\n",
    "    axes[i].set_title(f'{name}')\n",
    "    axes[i].grid(True, alpha=0.3)\n",
    "\n",
    "plt.tight_layout()\n",
    "plt.show()\n",
    "\n",
    "print(\"How to read these plots:\")\n",
    "print(\"- Points close to the red line = good predictions\")\n",
    "print(\"- Points far from the red line = poor predictions\")\n",
    "print(\"- Tighter cluster around the line = better model\")"
   ]
  },
  {
   "cell_type": "code",
   "execution_count": 26,
   "id": "f0513b69",
   "metadata": {},
   "outputs": [
    {
     "name": "stdout",
     "output_type": "stream",
     "text": [
      "🔍 FEATURE IMPORTANCE (Random Forest)\n",
      "This shows which features matter most for predictions:\n",
      "============================================================\n",
      "           Feature  Importance\n",
      "daily_active_users       0.883\n",
      "              year       0.117\n"
     ]
    },
    {
     "data": {
      "image/png": "[encoded data removed]",
      "text/plain": [
       "<Figure size 1000x600 with 1 Axes>"
      ]
     },
     "metadata": {},
     "output_type": "display_data"
    }
   ],
   "source": [
    "# Show which features are most important (for Random Forest)\n",
    "print(\"🔍 FEATURE IMPORTANCE (Random Forest)\")\n",
    "print(\"This shows which features matter most for predictions:\")\n",
    "print(\"=\" * 60)\n",
    "\n",
    "feature_importance = pd.DataFrame({\n",
    "    'Feature': X_clean.columns,\n",
    "    'Importance': model3.feature_importances_\n",
    "}).sort_values('Importance', ascending=False)\n",
    "\n",
    "print(feature_importance.to_string(index=False, float_format='%.3f'))\n",
    "\n",
    "# Plot feature importance\n",
    "plt.figure(figsize=(10, 6))\n",
    "plt.barh(range(len(feature_importance)), feature_importance['Importance'])\n",
    "plt.yticks(range(len(feature_importance)), feature_importance['Feature'])\n",
    "plt.xlabel('Importance')\n",
    "plt.title('Feature Importance in Random Forest Model')\n",
    "plt.gca().invert_yaxis()\n",
    "plt.tight_layout()\n",
    "plt.show()"
   ]
  },
  {
   "cell_type": "markdown",
   "id": "a682d128",
   "metadata": {},
   "source": [
    "## 8. Make Predictions on New Data\n",
    "\n",
    "Now let's use our best model to make predictions!"
   ]
  },
  {
   "cell_type": "code",
   "execution_count": 27,
   "id": "a2ddd62c",
   "metadata": {},
   "outputs": [
    {
     "name": "stdout",
     "output_type": "stream",
     "text": [
      "Using Linear Regression for predictions\n",
      "\n",
      "📊 SAMPLE PREDICTIONS\n",
      "==================================================\n",
      "Case 1:\n",
      "  Actual: 92\n",
      "  Predicted: 50\n",
      "  Error: 42\n",
      "\n",
      "Case 2:\n",
      "  Actual: 59\n",
      "  Predicted: 50\n",
      "  Error: 9\n",
      "\n",
      "Case 3:\n",
      "  Actual: 97\n",
      "  Predicted: 50\n",
      "  Error: 47\n",
      "\n",
      "Case 4:\n",
      "  Actual: 55\n",
      "  Predicted: 50\n",
      "  Error: 5\n",
      "\n",
      "Case 5:\n",
      "  Actual: 24\n",
      "  Predicted: 50\n",
      "  Error: 26\n",
      "\n",
      "💡 TIP: You can use this model to predict new values!\n",
      "Just create a new row with the same features and use model.predict()\n"
     ]
    }
   ],
   "source": [
    "# Use the best model to make predictions\n",
    "models = [model1, model2, model3]\n",
    "best_model = models[best_model_idx]\n",
    "\n",
    "print(f\"Using {best_model_name} for predictions\")\n",
    "\n",
    "# Example: Make predictions on a few test cases\n",
    "print(\"\\n📊 SAMPLE PREDICTIONS\")\n",
    "print(\"=\" * 50)\n",
    "\n",
    "# Show first 5 predictions vs actual values\n",
    "sample_size = min(5, len(X_test))\n",
    "sample_predictions = best_model.predict(X_test.iloc[:sample_size])\n",
    "\n",
    "for i in range(sample_size):\n",
    "    actual = y_test.iloc[i]\n",
    "    predicted = sample_predictions[i]\n",
    "    error = abs(actual - predicted)\n",
    "    \n",
    "    print(f\"Case {i+1}:\")\n",
    "    print(f\"  Actual: {actual:.0f}\")\n",
    "    print(f\"  Predicted: {predicted:.0f}\")\n",
    "    print(f\"  Error: {error:.0f}\")\n",
    "    print()\n",
    "\n",
    "print(\"💡 TIP: You can use this model to predict new values!\")\n",
    "print(\"Just create a new row with the same features and use model.predict()\")"
   ]
  },
  {
   "cell_type": "markdown",
   "id": "03784ada",
   "metadata": {},
   "source": [
    "## 9. Summary and Next Steps\n",
    "\n",
    "**🎉 Congratulations! You've built your first regression models!**\n",
    "\n",
    "**What we learned:**\n",
    "- How to choose target variables and features\n",
    "- How to prepare data for machine learning\n",
    "- How to split data into training and testing sets\n",
    "- How to train 3 different regression models\n",
    "- How to compare model performance\n",
    "- How to make predictions on new data\n",
    "\n",
    "**Key takeaways:**\n",
    "- **Linear Regression**: Simple, interpretable, good for linear relationships\n",
    "- **Decision Tree**: Handles non-linear patterns, easy to understand\n",
    "- **Random Forest**: Often the most accurate, combines many trees\n",
    "\n",
    "**Try this next:**\n",
    "1. Change the target variable to predict something else\n",
    "2. Add or remove features to see how it affects performance\n",
    "3. Try different train/test split ratios\n",
    "4. Experiment with different datasets\n",
    "\n",
    "**Remember:**\n",
    "- Higher R² score = better model (closer to 1.0)\n",
    "- Always test on unseen data\n",
    "- More data usually means better models\n",
    "- Feature selection matters!"
   ]
  },
  {
   "cell_type": "markdown",
   "id": "8d88b1fa",
   "metadata": {},
   "source": [
    "## 10. Bonus: Regularized Linear Regression\n",
    "\n",
    "Sometimes Linear Regression can have problems with certain features. Let's try regularized versions that are more robust!"
   ]
  },
  {
   "cell_type": "code",
   "execution_count": 36,
   "id": "bcc4216d",
   "metadata": {},
   "outputs": [
    {
     "name": "stdout",
     "output_type": "stream",
     "text": [
      "What is regularization?\n",
      "- Regularization helps prevent overfitting\n",
      "- It makes models more stable with difficult features\n",
      "- Ridge and Lasso are two common types\n",
      "- They work better when you have many features or correlated features\n",
      "\n",
      "Let's try them!\n"
     ]
    }
   ],
   "source": [
    "# Import regularized regression models\n",
    "from sklearn.linear_model import Ridge, Lasso\n",
    "\n",
    "print(\"What is regularization?\")\n",
    "print(\"- Regularization helps prevent overfitting\")\n",
    "print(\"- It makes models more stable with difficult features\")\n",
    "print(\"- Ridge and Lasso are two common types\")\n",
    "print(\"- They work better when you have many features or correlated features\")\n",
    "print(\"\\nLet's try them!\")"
   ]
  },
  {
   "cell_type": "code",
   "execution_count": 37,
   "id": "3b6d014d",
   "metadata": {},
   "outputs": [
    {
     "name": "stdout",
     "output_type": "stream",
     "text": [
      "Training Model 4: Ridge Regression\n",
      "✓ Ridge Regression trained!\n",
      "  Mean Squared Error: 5285256203.03\n",
      "  R² Score: 0.107 (higher is better, max = 1.0)\n",
      "  Ridge helps when features are correlated\n"
     ]
    }
   ],
   "source": [
    "# Model 4: Ridge Regression (Linear Regression with L2 regularization)\n",
    "print(\"Training Model 4: Ridge Regression\")\n",
    "model4 = Ridge(alpha=1.0, random_state=42)\n",
    "model4.fit(X_train, y_train)\n",
    "\n",
    "# Make predictions\n",
    "y_pred4 = model4.predict(X_test)\n",
    "\n",
    "# Calculate performance\n",
    "mse4 = mean_squared_error(y_test, y_pred4)\n",
    "r2_4 = r2_score(y_test, y_pred4)\n",
    "\n",
    "print(f\"✓ Ridge Regression trained!\")\n",
    "print(f\"  Mean Squared Error: {mse4:.2f}\")\n",
    "print(f\"  R² Score: {r2_4:.3f} (higher is better, max = 1.0)\")\n",
    "print(f\"  Ridge helps when features are correlated\")"
   ]
  },
  {
   "cell_type": "code",
   "execution_count": 38,
   "id": "f638d55a",
   "metadata": {},
   "outputs": [
    {
     "name": "stdout",
     "output_type": "stream",
     "text": [
      "Training Model 5: Lasso Regression\n",
      "✓ Lasso Regression trained!\n",
      "  Mean Squared Error: 5285311629.82\n",
      "  R² Score: 0.107 (higher is better, max = 1.0)\n",
      "  Lasso automatically selects important features\n"
     ]
    }
   ],
   "source": [
    "# Model 5: Lasso Regression (Linear Regression with L1 regularization)\n",
    "print(\"Training Model 5: Lasso Regression\")\n",
    "model5 = Lasso(alpha=1.0, random_state=42, max_iter=1000)\n",
    "model5.fit(X_train, y_train)\n",
    "\n",
    "# Make predictions\n",
    "y_pred5 = model5.predict(X_test)\n",
    "\n",
    "# Calculate performance\n",
    "mse5 = mean_squared_error(y_test, y_pred5)\n",
    "r2_5 = r2_score(y_test, y_pred5)\n",
    "\n",
    "print(f\"✓ Lasso Regression trained!\")\n",
    "print(f\"  Mean Squared Error: {mse5:.2f}\")\n",
    "print(f\"  R² Score: {r2_5:.3f} (higher is better, max = 1.0)\")\n",
    "print(f\"  Lasso automatically selects important features\")"
   ]
  },
  {
   "cell_type": "code",
   "execution_count": 39,
   "id": "630a4ed9",
   "metadata": {},
   "outputs": [
    {
     "name": "stdout",
     "output_type": "stream",
     "text": [
      "🏆 COMPLETE MODEL COMPARISON\n",
      "============================================================\n",
      "            Model  Mean_Squared_Error  R2_Score\n",
      "Linear Regression      5285286249.102     0.107\n",
      "    Decision Tree      5258909964.688     0.111\n",
      "    Random Forest      5258561712.307     0.111\n",
      " Ridge Regression      5285256203.035     0.107\n",
      " Lasso Regression      5285311629.817     0.107\n",
      "\n",
      "🥇 OVERALL WINNER: Random Forest\n",
      "   R² Score: 0.111\n",
      "\n",
      "📚 When to use each model:\n",
      "- Linear Regression: Simple relationships, interpretable\n",
      "- Ridge Regression: When features are correlated, more stable\n",
      "- Lasso Regression: Automatic feature selection, sparse solutions\n",
      "- Decision Tree: Non-linear patterns, easy to explain\n",
      "- Random Forest: Best overall performance, handles everything\n"
     ]
    }
   ],
   "source": [
    "# Compare ALL models including regularized ones\n",
    "all_results = pd.DataFrame({\n",
    "    'Model': ['Linear Regression', 'Decision Tree', 'Random Forest', 'Ridge Regression', 'Lasso Regression'],\n",
    "    'Mean_Squared_Error': [mse1, mse2, mse3, mse4, mse5],\n",
    "    'R2_Score': [r2_1, r2_2, r2_3, r2_4, r2_5]\n",
    "})\n",
    "\n",
    "print(\"🏆 COMPLETE MODEL COMPARISON\")\n",
    "print(\"=\" * 60)\n",
    "print(all_results.to_string(index=False, float_format='%.3f'))\n",
    "\n",
    "# Find the best model overall\n",
    "best_overall_idx = all_results['R2_Score'].idxmax()\n",
    "best_overall_name = all_results.loc[best_overall_idx, 'Model']\n",
    "best_overall_r2 = all_results.loc[best_overall_idx, 'R2_Score']\n",
    "\n",
    "print(f\"\\n🥇 OVERALL WINNER: {best_overall_name}\")\n",
    "print(f\"   R² Score: {best_overall_r2:.3f}\")\n",
    "\n",
    "print(f\"\\n📚 When to use each model:\")\n",
    "print(f\"- Linear Regression: Simple relationships, interpretable\")\n",
    "print(f\"- Ridge Regression: When features are correlated, more stable\")\n",
    "print(f\"- Lasso Regression: Automatic feature selection, sparse solutions\")\n",
    "print(f\"- Decision Tree: Non-linear patterns, easy to explain\")\n",
    "print(f\"- Random Forest: Best overall performance, handles everything\")"
   ]
  },
  {
   "cell_type": "code",
   "execution_count": 40,
   "id": "5e8ffd11",
   "metadata": {},
   "outputs": [
    {
     "name": "stdout",
     "output_type": "stream",
     "text": [
      "🔍 FEATURE SELECTION BY LASSO\n",
      "==================================================\n",
      "Feature coefficients (Ridge vs Lasso):\n",
      "            Feature  Ridge_Coefficient  Lasso_Coefficient  Lasso_Selected\n",
      "          work_year           3019.740           3018.800            True\n",
      "       remote_ratio            -63.425            -63.425            True\n",
      "experience_level_EX         102866.002         102906.643            True\n",
      "experience_level_MI          38805.434          38816.971            True\n",
      "experience_level_SE          69917.739          69931.030            True\n",
      " employment_type_FL         -41809.657         -40952.781            True\n",
      " employment_type_FT          34364.993          34514.769            True\n",
      " employment_type_PT          -2466.514          -2113.128            True\n",
      "\n",
      "📊 Lasso selected 8 out of 8 features\n",
      "Features with coefficient = 0 are considered unimportant by Lasso\n"
     ]
    }
   ],
   "source": [
    "# Show how Lasso selects features (sets some coefficients to zero)\n",
    "print(\"🔍 FEATURE SELECTION BY LASSO\")\n",
    "print(\"=\" * 50)\n",
    "\n",
    "# Get coefficients for Ridge and Lasso\n",
    "ridge_coef = pd.DataFrame({\n",
    "    'Feature': X_clean.columns,\n",
    "    'Ridge_Coefficient': model4.coef_\n",
    "})\n",
    "\n",
    "lasso_coef = pd.DataFrame({\n",
    "    'Feature': X_clean.columns,\n",
    "    'Lasso_Coefficient': model5.coef_\n",
    "})\n",
    "\n",
    "# Combine and show\n",
    "feature_coef = pd.merge(ridge_coef, lasso_coef, on='Feature')\n",
    "feature_coef['Lasso_Selected'] = (feature_coef['Lasso_Coefficient'] != 0)\n",
    "\n",
    "print(\"Feature coefficients (Ridge vs Lasso):\")\n",
    "print(feature_coef.to_string(index=False, float_format='%.3f'))\n",
    "\n",
    "# Count features selected by Lasso\n",
    "selected_features = feature_coef['Lasso_Selected'].sum()\n",
    "total_features = len(feature_coef)\n",
    "\n",
    "print(f\"\\n📊 Lasso selected {selected_features} out of {total_features} features\")\n",
    "print(f\"Features with coefficient = 0 are considered unimportant by Lasso\")"
   ]
  },
  {
   "cell_type": "markdown",
   "id": "943b2cf0",
   "metadata": {},
   "source": [
    "### 💡 Troubleshooting Tips\n",
    "\n",
    "**If you get errors with Linear Regression:**\n",
    "\n",
    "1. **\"Singular matrix\" or \"LinAlgError\"**: \n",
    "   - Use Ridge or Lasso instead\n",
    "   - Remove highly correlated features\n",
    "   - Reduce the number of features\n",
    "\n",
    "2. **Poor performance (low R² score)**:\n",
    "   - Try regularized models (Ridge/Lasso)\n",
    "   - Add more relevant features\n",
    "   - Check for outliers in your data\n",
    "\n",
    "3. **\"Convergence warnings\"**:\n",
    "   - Increase `max_iter` parameter\n",
    "   - Try Ridge regression instead\n",
    "   - Standardize your features first\n",
    "\n",
    "**Remember**: Ridge and Lasso are more robust than basic Linear Regression!"
   ]
  }
 ],
 "metadata": {
  "kernelspec": {
   "display_name": "Python 3",
   "language": "python",
   "name": "python3"
  },
  "language_info": {
   "codemirror_mode": {
    "name": "ipython",
    "version": 3
   },
   "file_extension": ".py",
   "mimetype": "text/x-python",
   "name": "python",
   "nbconvert_exporter": "python",
   "pygments_lexer": "ipython3",
   "version": "3.12.0"
  }
 },
 "nbformat": 4,
 "nbformat_minor": 5
}
